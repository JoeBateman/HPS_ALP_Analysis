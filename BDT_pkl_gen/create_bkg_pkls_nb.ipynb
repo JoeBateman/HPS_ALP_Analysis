{
 "cells": [
  {
   "cell_type": "markdown",
   "metadata": {},
   "source": [
    "# Creating BDT input pkls from input ntuples\n",
    "\n",
    "as well as the final pkls for use in the main analysis.\n",
    "\n",
    "The purpose of this notebooke was to see if the updated NuMI flux ntuples could be ported into the main analysis body, and the effect this would have."
   ]
  },
  {
   "cell_type": "code",
   "execution_count": 41,
   "metadata": {},
   "outputs": [
    {
     "name": "stdout",
     "output_type": "stream",
     "text": [
      "The autoreload extension is already loaded. To reload it, use:\n",
      "  %reload_ext autoreload\n"
     ]
    }
   ],
   "source": [
    "# So that the notebook us updated to reflect changes in the .py file:\n",
    "%load_ext autoreload\n",
    "%autoreload 2\n",
    "from create_pkls import * # .py file used to define most functions\n",
    "# Note: Importing uproot3 as uproot so that we can flatten more easily\n"
   ]
  },
  {
   "cell_type": "code",
   "execution_count": 82,
   "metadata": {},
   "outputs": [
    {
     "name": "stdout",
     "output_type": "stream",
     "text": [
      "The history saving thread hit an unexpected error (OperationalError('disk I/O error')).History will not be written to the database.\n",
      "Created main dataframe.\n"
     ]
    }
   ],
   "source": [
    "# Parameters to set so that files are saved/imported correctly\n",
    "run = 'Run4b' \n",
    "sample = 'Ext' # 'Data', 'Signal', 'Overlay', 'Dirt', 'Ext'\n",
    "bkg_dict = {'Overlay': 'o',\n",
    "            'Dirt': 'd',\n",
    "            'Ext': 'e',}\n",
    "\n",
    "load_vars = Main_variables.copy()\n",
    "\n",
    "if sample == 'Overlay' or sample == 'Dirt':\n",
    "    load_vars += [\"ppfx_cv\"]\n",
    "\n",
    "# Defining the pkl save path\n",
    "loc_BDT_input = '/exp/uboone/data/users/jbateman/workdir/HPS_uboone_analysis/Run_245_ana/BDT_input_pkl/'\n",
    "\n",
    "loc_ntuple = '/exp/uboone/data/users/jbateman/workdir/HPS_uboone_analysis/Run_245_ana/'\n",
    "ntuple_name = 'numi_pelee_ntuple_beam_off_run4b_rhc_ana.root'\n",
    "\n",
    "root_tree = uproot.open(loc_ntuple + ntuple_name)['nuselection/NeutrinoSelectionFilter']\n",
    "\n",
    "# Option to add extra variables to main/additional arrays, based on the sample type.\n",
    "df_main_vars = root_tree.pandas.df(load_vars,flatten=True) \n",
    "print('Created main dataframe.')\n",
    "\n",
    "additional_variables = mc_variables+weights_variables+truth_variables+tune_variables\n",
    "if sample=='Overlay' or sample == 'Dirt':\n",
    "    print('Adding overlay variables to the dataframe.')\n",
    "    df_jagged_vars = root_tree.pandas.df(additional_variables, flatten=False)\n",
    "    df_main_vars = pd.merge(df_main_vars, df_jagged_vars, on='entry', how='inner')\n",
    "    df_main_vars = weightTuneBool(df_main_vars)\n",
    "\n",
    "    \n"
   ]
  },
  {
   "cell_type": "markdown",
   "metadata": {},
   "source": [
    "## Creating the 1 & 2 Shower samples"
   ]
  },
  {
   "cell_type": "code",
   "execution_count": 83,
   "metadata": {},
   "outputs": [
    {
     "name": "stdout",
     "output_type": "stream",
     "text": [
      "Before slice ID cut\n",
      "267959\n",
      "Before FV cut\n",
      "267959\n",
      "After FV cut\n",
      "136752\n",
      "After nu_purity_from_pfp cut\n",
      "136752\n",
      "After CRT cut\n",
      "52847\n",
      "After trk_score cut\n",
      "11893\n",
      "After shr_pfp_id_v cut\n",
      "10251\n",
      "After n_showers_contained_MCStool cut\n",
      "6432\n",
      "After Counts==1 cut\n",
      "6046\n",
      "After FV cut\n",
      "136752\n",
      "After nu_purity_from_pfp cut\n",
      "136752\n",
      "After FV cut\n",
      "136752\n",
      "After CRT cut\n",
      "52847\n",
      "After trk_score cut\n",
      "11893\n",
      "After shr_pfp_id_v cut\n",
      "10251\n",
      "After n_showers_contained_MCStool cut\n",
      "2071\n",
      "After Counts==2 cut\n",
      "1922\n",
      "960\n",
      "962\n",
      "959\n"
     ]
    },
    {
     "name": "stderr",
     "output_type": "stream",
     "text": [
      "/exp/uboone/app/users/jbateman/workdir/ALPs_and_HPS/HPS_ALP_Analysis/BDT_pkl_gen/create_pkls.py:176: SettingWithCopyWarning: \n",
      "A value is trying to be set on a copy of a slice from a DataFrame.\n",
      "Try using .loc[row_indexer,col_indexer] = value instead\n",
      "\n",
      "See the caveats in the documentation: https://pandas.pydata.org/pandas-docs/stable/user_guide/indexing.html#returning-a-view-versus-a-copy\n",
      "  df['Counts'] = df.groupby(['entry'])['temp_ID'].transform('count')\n",
      "/exp/uboone/app/users/jbateman/workdir/ALPs_and_HPS/HPS_ALP_Analysis/BDT_pkl_gen/create_pkls.py:178: SettingWithCopyWarning: \n",
      "A value is trying to be set on a copy of a slice from a DataFrame.\n",
      "Try using .loc[row_indexer,col_indexer] = value instead\n",
      "\n",
      "See the caveats in the documentation: https://pandas.pydata.org/pandas-docs/stable/user_guide/indexing.html#returning-a-view-versus-a-copy\n",
      "  df = df.query('Counts==1')\n",
      "/exp/uboone/app/users/jbateman/workdir/ALPs_and_HPS/HPS_ALP_Analysis/BDT_pkl_gen/create_pkls.py:217: SettingWithCopyWarning: \n",
      "A value is trying to be set on a copy of a slice from a DataFrame.\n",
      "Try using .loc[row_indexer,col_indexer] = value instead\n",
      "\n",
      "See the caveats in the documentation: https://pandas.pydata.org/pandas-docs/stable/user_guide/indexing.html#returning-a-view-versus-a-copy\n",
      "  df['Counts'] = df.groupby(['entry'])['temp_ID'].transform('count')\n",
      "/exp/uboone/app/users/jbateman/workdir/ALPs_and_HPS/HPS_ALP_Analysis/BDT_pkl_gen/create_pkls.py:219: SettingWithCopyWarning: \n",
      "A value is trying to be set on a copy of a slice from a DataFrame.\n",
      "Try using .loc[row_indexer,col_indexer] = value instead\n",
      "\n",
      "See the caveats in the documentation: https://pandas.pydata.org/pandas-docs/stable/user_guide/indexing.html#returning-a-view-versus-a-copy\n",
      "  df = df.query('Counts==2')\n",
      "/exp/uboone/app/users/jbateman/workdir/ALPs_and_HPS/HPS_ALP_Analysis/BDT_pkl_gen/create_pkls.py:231: FutureWarning: The provided callable <built-in function max> is currently using SeriesGroupBy.max. In a future version of pandas, the provided callable will be used directly. To keep current behavior pass the string \"max\" instead.\n",
      "  df.eval('leading_shr = leading_shr_hits',inplace=True)\n",
      "/exp/uboone/app/users/jbateman/workdir/ALPs_and_HPS/HPS_ALP_Analysis/BDT_pkl_gen/create_pkls.py:232: FutureWarning: The provided callable <built-in function max> is currently using SeriesGroupBy.max. In a future version of pandas, the provided callable will be used directly. To keep current behavior pass the string \"max\" instead.\n",
      "  \n",
      "/exp/uboone/app/users/jbateman/workdir/ALPs_and_HPS/HPS_ALP_Analysis/BDT_pkl_gen/create_pkls.py:267: FutureWarning: Setting an item of incompatible dtype is deprecated and will raise in a future error of pandas. Value '[19867 19867 21025 ... 19768 19768 19768]' has dtype incompatible with int32, please explicitly cast to a compatible dtype first.\n",
      "  #print ('Fine until here 3')\n",
      "/exp/uboone/app/users/jbateman/workdir/ALPs_and_HPS/HPS_ALP_Analysis/BDT_pkl_gen/create_pkls.py:267: FutureWarning: Setting an item of incompatible dtype is deprecated and will raise in a future error of pandas. Value '[53 53 18 ... 29 36 36]' has dtype incompatible with int32, please explicitly cast to a compatible dtype first.\n",
      "  #print ('Fine until here 3')\n",
      "/exp/uboone/app/users/jbateman/workdir/ALPs_and_HPS/HPS_ALP_Analysis/BDT_pkl_gen/create_pkls.py:267: FutureWarning: Setting an item of incompatible dtype is deprecated and will raise in a future error of pandas. Value '[2673 2673  931 ... 1477 1848 1848]' has dtype incompatible with int32, please explicitly cast to a compatible dtype first.\n",
      "  #print ('Fine until here 3')\n",
      "/exp/uboone/app/users/jbateman/workdir/ALPs_and_HPS/HPS_ALP_Analysis/BDT_pkl_gen/create_pkls.py:267: FutureWarning: Setting an item of incompatible dtype is deprecated and will raise in a future error of pandas. Value '[178  39  82 ...  85  69  26]' has dtype incompatible with int32, please explicitly cast to a compatible dtype first.\n",
      "  #print ('Fine until here 3')\n",
      "/exp/uboone/app/users/jbateman/workdir/ALPs_and_HPS/HPS_ALP_Analysis/BDT_pkl_gen/create_pkls.py:267: FutureWarning: Setting an item of incompatible dtype is deprecated and will raise in a future error of pandas. Value '[-2147483648 -2147483648 -2147483648 ... -2147483648 -2147483648\n",
      " -2147483648]' has dtype incompatible with int32, please explicitly cast to a compatible dtype first.\n",
      "  #print ('Fine until here 3')\n",
      "/exp/uboone/app/users/jbateman/workdir/ALPs_and_HPS/HPS_ALP_Analysis/BDT_pkl_gen/create_pkls.py:267: FutureWarning: Setting an item of incompatible dtype is deprecated and will raise in a future error of pandas. Value '[-2147483648 -2147483648 -2147483648 ... -2147483648 -2147483648\n",
      " -2147483648]' has dtype incompatible with int32, please explicitly cast to a compatible dtype first.\n",
      "  #print ('Fine until here 3')\n",
      "/exp/uboone/app/users/jbateman/workdir/ALPs_and_HPS/HPS_ALP_Analysis/BDT_pkl_gen/create_pkls.py:267: FutureWarning: Setting an item of incompatible dtype is deprecated and will raise in a future error of pandas. Value '[-2147483648 -2147483648 -2147483648 ... -2147483648 -2147483648\n",
      " -2147483648]' has dtype incompatible with int32, please explicitly cast to a compatible dtype first.\n",
      "  #print ('Fine until here 3')\n",
      "/exp/uboone/app/users/jbateman/workdir/ALPs_and_HPS/HPS_ALP_Analysis/BDT_pkl_gen/create_pkls.py:267: FutureWarning: Setting an item of incompatible dtype is deprecated and will raise in a future error of pandas. Value '[0 0 0 ... 0 0 0]' has dtype incompatible with int32, please explicitly cast to a compatible dtype first.\n",
      "  #print ('Fine until here 3')\n",
      "/exp/uboone/app/users/jbateman/workdir/ALPs_and_HPS/HPS_ALP_Analysis/BDT_pkl_gen/create_pkls.py:267: FutureWarning: Setting an item of incompatible dtype is deprecated and will raise in a future error of pandas. Value '[0 0 0 ... 0 0 0]' has dtype incompatible with int32, please explicitly cast to a compatible dtype first.\n",
      "  #print ('Fine until here 3')\n",
      "/exp/uboone/app/users/jbateman/workdir/ALPs_and_HPS/HPS_ALP_Analysis/BDT_pkl_gen/create_pkls.py:267: FutureWarning: Setting an item of incompatible dtype is deprecated and will raise in a future error of pandas. Value '[14 14 12 ... 12 14 14]' has dtype incompatible with int32, please explicitly cast to a compatible dtype first.\n",
      "  #print ('Fine until here 3')\n",
      "/exp/uboone/app/users/jbateman/workdir/ALPs_and_HPS/HPS_ALP_Analysis/BDT_pkl_gen/create_pkls.py:267: FutureWarning: Setting an item of incompatible dtype is deprecated and will raise in a future error of pandas. Value '[1 1 1 ... 2 2 2]' has dtype incompatible with int32, please explicitly cast to a compatible dtype first.\n",
      "  #print ('Fine until here 3')\n",
      "/exp/uboone/app/users/jbateman/workdir/ALPs_and_HPS/HPS_ALP_Analysis/BDT_pkl_gen/create_pkls.py:267: FutureWarning: Setting an item of incompatible dtype is deprecated and will raise in a future error of pandas. Value '[615 103 227 ... 822 282  55]' has dtype incompatible with int32, please explicitly cast to a compatible dtype first.\n",
      "  #print ('Fine until here 3')\n",
      "/exp/uboone/app/users/jbateman/workdir/ALPs_and_HPS/HPS_ALP_Analysis/BDT_pkl_gen/create_pkls.py:267: FutureWarning: Setting an item of incompatible dtype is deprecated and will raise in a future error of pandas. Value '[1 1 1 ... 1 1 1]' has dtype incompatible with int32, please explicitly cast to a compatible dtype first.\n",
      "  #print ('Fine until here 3')\n"
     ]
    },
    {
     "name": "stdout",
     "output_type": "stream",
     "text": [
      "960\n",
      "df\n",
      "1922\n",
      "df_temp_temp\n",
      "4\n",
      "960\n",
      "961\n",
      "960\n",
      "961\n"
     ]
    }
   ],
   "source": [
    "df_temp = df_main_vars.copy(deep=True)\n",
    "df_temp_1shr = preselection_1shr(df_temp, print_bool=True)\n",
    "df_temp_1shr = get_1shr_variable (df_temp_1shr.copy())\n",
    "\n",
    "if sample =='Signal':\n",
    "    df_temp_1shr = merge_true_theta_bkg(df_temp_1shr.copy(), 'Run4a')\n",
    "elif sample in bkg_dict:\n",
    "    df_temp_1shr = tag_bkg_category(df_temp_1shr.copy(), bkg_dict[sample]) # o: overlay, d: dirt, e: ext\n",
    "\n",
    "df_temp_2shr = preselection_2shr(df_temp, print_bool=True)\n",
    "df_temp_2shr = leading_shr(df_temp_2shr.copy())\n",
    "df_temp_2shr = get_2shr_variable(df_temp_2shr.copy())\n",
    "\n",
    "if sample =='Signal':\n",
    "    df_temp_2shr = merge_true_theta_bkg(df_temp_2shr.copy(), 'Run4a')\n",
    "elif sample in bkg_dict:\n",
    "    df_temp_2shr = tag_bkg_category(df_temp_2shr.copy(), bkg_dict[sample]) # o: overlay, d: dirt, e: ext\n",
    "\n",
    "\n"
   ]
  },
  {
   "cell_type": "markdown",
   "metadata": {},
   "source": [
    "## Getting a BDT prediction"
   ]
  },
  {
   "cell_type": "code",
   "execution_count": 84,
   "metadata": {},
   "outputs": [
    {
     "name": "stderr",
     "output_type": "stream",
     "text": [
      "/exp/uboone/app/users/jbateman/conda/envs/HPS_ana/lib/python3.10/site-packages/xgboost/core.py:158: UserWarning: [07:12:05] WARNING: /workspace/src/learner.cc:872: Found JSON model saved before XGBoost 1.6, please save the model using current version again. The support for old JSON model will be discontinued in XGBoost 2.3.\n",
      "  warnings.warn(smsg, UserWarning)\n"
     ]
    },
    {
     "name": "stdout",
     "output_type": "stream",
     "text": [
      "Run3_100_MeV_KDIF_1shr\n",
      "6046\n",
      "Calculated predictions...\n",
      "Fixed column labelling...\n"
     ]
    },
    {
     "name": "stderr",
     "output_type": "stream",
     "text": [
      "/exp/uboone/app/users/jbateman/conda/envs/HPS_ana/lib/python3.10/site-packages/xgboost/core.py:158: UserWarning: [07:12:06] WARNING: /workspace/src/learner.cc:872: Found JSON model saved before XGBoost 1.6, please save the model using current version again. The support for old JSON model will be discontinued in XGBoost 2.3.\n",
      "  warnings.warn(smsg, UserWarning)\n"
     ]
    },
    {
     "name": "stdout",
     "output_type": "stream",
     "text": [
      "Run3_100_MeV_KDIF_2shr\n",
      "963\n",
      "Calculated predictions...\n",
      "Fixed column labelling...\n"
     ]
    },
    {
     "name": "stderr",
     "output_type": "stream",
     "text": [
      "/exp/uboone/app/users/jbateman/conda/envs/HPS_ana/lib/python3.10/site-packages/xgboost/core.py:158: UserWarning: [07:12:06] WARNING: /workspace/src/learner.cc:872: Found JSON model saved before XGBoost 1.6, please save the model using current version again. The support for old JSON model will be discontinued in XGBoost 2.3.\n",
      "  warnings.warn(smsg, UserWarning)\n"
     ]
    },
    {
     "name": "stdout",
     "output_type": "stream",
     "text": [
      "Run3_100_MeV_KDAR_1shr\n",
      "6046\n",
      "Calculated predictions...\n",
      "Fixed column labelling...\n"
     ]
    },
    {
     "name": "stderr",
     "output_type": "stream",
     "text": [
      "/exp/uboone/app/users/jbateman/conda/envs/HPS_ana/lib/python3.10/site-packages/xgboost/core.py:158: UserWarning: [07:12:07] WARNING: /workspace/src/learner.cc:872: Found JSON model saved before XGBoost 1.6, please save the model using current version again. The support for old JSON model will be discontinued in XGBoost 2.3.\n",
      "  warnings.warn(smsg, UserWarning)\n"
     ]
    },
    {
     "name": "stdout",
     "output_type": "stream",
     "text": [
      "Run3_100_MeV_KDAR_2shr\n",
      "963\n",
      "Calculated predictions...\n",
      "Fixed column labelling...\n"
     ]
    },
    {
     "name": "stderr",
     "output_type": "stream",
     "text": [
      "/exp/uboone/app/users/jbateman/conda/envs/HPS_ana/lib/python3.10/site-packages/xgboost/core.py:158: UserWarning: [07:12:07] WARNING: /workspace/src/learner.cc:872: Found JSON model saved before XGBoost 1.6, please save the model using current version again. The support for old JSON model will be discontinued in XGBoost 2.3.\n",
      "  warnings.warn(smsg, UserWarning)\n"
     ]
    },
    {
     "name": "stdout",
     "output_type": "stream",
     "text": [
      "Run3_125_MeV_KDIF_1shr\n",
      "6046\n",
      "Calculated predictions...\n",
      "Fixed column labelling...\n"
     ]
    },
    {
     "name": "stderr",
     "output_type": "stream",
     "text": [
      "/exp/uboone/app/users/jbateman/conda/envs/HPS_ana/lib/python3.10/site-packages/xgboost/core.py:158: UserWarning: [07:12:08] WARNING: /workspace/src/learner.cc:872: Found JSON model saved before XGBoost 1.6, please save the model using current version again. The support for old JSON model will be discontinued in XGBoost 2.3.\n",
      "  warnings.warn(smsg, UserWarning)\n"
     ]
    },
    {
     "name": "stdout",
     "output_type": "stream",
     "text": [
      "Run3_125_MeV_KDIF_2shr\n",
      "963\n",
      "Calculated predictions...\n",
      "Fixed column labelling...\n"
     ]
    },
    {
     "name": "stderr",
     "output_type": "stream",
     "text": [
      "/exp/uboone/app/users/jbateman/conda/envs/HPS_ana/lib/python3.10/site-packages/xgboost/core.py:158: UserWarning: [07:12:08] WARNING: /workspace/src/learner.cc:872: Found JSON model saved before XGBoost 1.6, please save the model using current version again. The support for old JSON model will be discontinued in XGBoost 2.3.\n",
      "  warnings.warn(smsg, UserWarning)\n"
     ]
    },
    {
     "name": "stdout",
     "output_type": "stream",
     "text": [
      "Run3_125_MeV_KDAR_1shr\n",
      "6046\n",
      "Calculated predictions...\n",
      "Fixed column labelling...\n"
     ]
    },
    {
     "name": "stderr",
     "output_type": "stream",
     "text": [
      "/exp/uboone/app/users/jbateman/conda/envs/HPS_ana/lib/python3.10/site-packages/xgboost/core.py:158: UserWarning: [07:12:08] WARNING: /workspace/src/learner.cc:872: Found JSON model saved before XGBoost 1.6, please save the model using current version again. The support for old JSON model will be discontinued in XGBoost 2.3.\n",
      "  warnings.warn(smsg, UserWarning)\n"
     ]
    },
    {
     "name": "stdout",
     "output_type": "stream",
     "text": [
      "Run3_125_MeV_KDAR_2shr\n",
      "963\n",
      "Calculated predictions...\n",
      "Fixed column labelling...\n"
     ]
    },
    {
     "name": "stderr",
     "output_type": "stream",
     "text": [
      "/exp/uboone/app/users/jbateman/conda/envs/HPS_ana/lib/python3.10/site-packages/xgboost/core.py:158: UserWarning: [07:12:09] WARNING: /workspace/src/learner.cc:872: Found JSON model saved before XGBoost 1.6, please save the model using current version again. The support for old JSON model will be discontinued in XGBoost 2.3.\n",
      "  warnings.warn(smsg, UserWarning)\n"
     ]
    },
    {
     "name": "stdout",
     "output_type": "stream",
     "text": [
      "Run3_130_MeV_KDIF_1shr\n",
      "6046\n",
      "Calculated predictions...\n",
      "Fixed column labelling...\n"
     ]
    },
    {
     "name": "stderr",
     "output_type": "stream",
     "text": [
      "/exp/uboone/app/users/jbateman/conda/envs/HPS_ana/lib/python3.10/site-packages/xgboost/core.py:158: UserWarning: [07:12:09] WARNING: /workspace/src/learner.cc:872: Found JSON model saved before XGBoost 1.6, please save the model using current version again. The support for old JSON model will be discontinued in XGBoost 2.3.\n",
      "  warnings.warn(smsg, UserWarning)\n"
     ]
    },
    {
     "name": "stdout",
     "output_type": "stream",
     "text": [
      "Run3_130_MeV_KDIF_2shr\n",
      "963\n",
      "Calculated predictions...\n",
      "Fixed column labelling...\n"
     ]
    },
    {
     "name": "stderr",
     "output_type": "stream",
     "text": [
      "/exp/uboone/app/users/jbateman/conda/envs/HPS_ana/lib/python3.10/site-packages/xgboost/core.py:158: UserWarning: [07:12:10] WARNING: /workspace/src/learner.cc:872: Found JSON model saved before XGBoost 1.6, please save the model using current version again. The support for old JSON model will be discontinued in XGBoost 2.3.\n",
      "  warnings.warn(smsg, UserWarning)\n"
     ]
    },
    {
     "name": "stdout",
     "output_type": "stream",
     "text": [
      "Run3_130_MeV_KDAR_1shr\n",
      "6046\n",
      "Calculated predictions...\n",
      "Fixed column labelling...\n"
     ]
    },
    {
     "name": "stderr",
     "output_type": "stream",
     "text": [
      "/exp/uboone/app/users/jbateman/conda/envs/HPS_ana/lib/python3.10/site-packages/xgboost/core.py:158: UserWarning: [07:12:10] WARNING: /workspace/src/learner.cc:872: Found JSON model saved before XGBoost 1.6, please save the model using current version again. The support for old JSON model will be discontinued in XGBoost 2.3.\n",
      "  warnings.warn(smsg, UserWarning)\n"
     ]
    },
    {
     "name": "stdout",
     "output_type": "stream",
     "text": [
      "Run3_130_MeV_KDAR_2shr\n",
      "963\n",
      "Calculated predictions...\n",
      "Fixed column labelling...\n"
     ]
    },
    {
     "name": "stderr",
     "output_type": "stream",
     "text": [
      "/exp/uboone/app/users/jbateman/conda/envs/HPS_ana/lib/python3.10/site-packages/xgboost/core.py:158: UserWarning: [07:12:11] WARNING: /workspace/src/learner.cc:872: Found JSON model saved before XGBoost 1.6, please save the model using current version again. The support for old JSON model will be discontinued in XGBoost 2.3.\n",
      "  warnings.warn(smsg, UserWarning)\n"
     ]
    },
    {
     "name": "stdout",
     "output_type": "stream",
     "text": [
      "Run3_135_MeV_KDIF_1shr\n",
      "6046\n",
      "Calculated predictions...\n",
      "Fixed column labelling...\n"
     ]
    },
    {
     "name": "stderr",
     "output_type": "stream",
     "text": [
      "/exp/uboone/app/users/jbateman/conda/envs/HPS_ana/lib/python3.10/site-packages/xgboost/core.py:158: UserWarning: [07:12:11] WARNING: /workspace/src/learner.cc:872: Found JSON model saved before XGBoost 1.6, please save the model using current version again. The support for old JSON model will be discontinued in XGBoost 2.3.\n",
      "  warnings.warn(smsg, UserWarning)\n"
     ]
    },
    {
     "name": "stdout",
     "output_type": "stream",
     "text": [
      "Run3_135_MeV_KDIF_2shr\n",
      "963\n",
      "Calculated predictions...\n",
      "Fixed column labelling...\n"
     ]
    },
    {
     "name": "stderr",
     "output_type": "stream",
     "text": [
      "/exp/uboone/app/users/jbateman/conda/envs/HPS_ana/lib/python3.10/site-packages/xgboost/core.py:158: UserWarning: [07:12:12] WARNING: /workspace/src/learner.cc:872: Found JSON model saved before XGBoost 1.6, please save the model using current version again. The support for old JSON model will be discontinued in XGBoost 2.3.\n",
      "  warnings.warn(smsg, UserWarning)\n"
     ]
    },
    {
     "name": "stdout",
     "output_type": "stream",
     "text": [
      "Run3_135_MeV_KDAR_1shr\n",
      "6046\n",
      "Calculated predictions...\n",
      "Fixed column labelling...\n"
     ]
    },
    {
     "name": "stderr",
     "output_type": "stream",
     "text": [
      "/exp/uboone/app/users/jbateman/conda/envs/HPS_ana/lib/python3.10/site-packages/xgboost/core.py:158: UserWarning: [07:12:12] WARNING: /workspace/src/learner.cc:872: Found JSON model saved before XGBoost 1.6, please save the model using current version again. The support for old JSON model will be discontinued in XGBoost 2.3.\n",
      "  warnings.warn(smsg, UserWarning)\n"
     ]
    },
    {
     "name": "stdout",
     "output_type": "stream",
     "text": [
      "Run3_135_MeV_KDAR_2shr\n",
      "963\n",
      "Calculated predictions...\n",
      "Fixed column labelling...\n"
     ]
    },
    {
     "name": "stderr",
     "output_type": "stream",
     "text": [
      "/exp/uboone/app/users/jbateman/conda/envs/HPS_ana/lib/python3.10/site-packages/xgboost/core.py:158: UserWarning: [07:12:12] WARNING: /workspace/src/learner.cc:872: Found JSON model saved before XGBoost 1.6, please save the model using current version again. The support for old JSON model will be discontinued in XGBoost 2.3.\n",
      "  warnings.warn(smsg, UserWarning)\n"
     ]
    },
    {
     "name": "stdout",
     "output_type": "stream",
     "text": [
      "Run3_140_MeV_KDIF_1shr\n",
      "6046\n",
      "Calculated predictions...\n",
      "Fixed column labelling...\n"
     ]
    },
    {
     "name": "stderr",
     "output_type": "stream",
     "text": [
      "/exp/uboone/app/users/jbateman/conda/envs/HPS_ana/lib/python3.10/site-packages/xgboost/core.py:158: UserWarning: [07:12:13] WARNING: /workspace/src/learner.cc:872: Found JSON model saved before XGBoost 1.6, please save the model using current version again. The support for old JSON model will be discontinued in XGBoost 2.3.\n",
      "  warnings.warn(smsg, UserWarning)\n"
     ]
    },
    {
     "name": "stdout",
     "output_type": "stream",
     "text": [
      "Run3_140_MeV_KDIF_2shr\n",
      "963\n",
      "Calculated predictions...\n",
      "Fixed column labelling...\n"
     ]
    },
    {
     "name": "stderr",
     "output_type": "stream",
     "text": [
      "/exp/uboone/app/users/jbateman/conda/envs/HPS_ana/lib/python3.10/site-packages/xgboost/core.py:158: UserWarning: [07:12:13] WARNING: /workspace/src/learner.cc:872: Found JSON model saved before XGBoost 1.6, please save the model using current version again. The support for old JSON model will be discontinued in XGBoost 2.3.\n",
      "  warnings.warn(smsg, UserWarning)\n"
     ]
    },
    {
     "name": "stdout",
     "output_type": "stream",
     "text": [
      "Run3_140_MeV_KDAR_1shr\n",
      "6046\n",
      "Calculated predictions...\n",
      "Fixed column labelling...\n"
     ]
    },
    {
     "name": "stderr",
     "output_type": "stream",
     "text": [
      "/exp/uboone/app/users/jbateman/conda/envs/HPS_ana/lib/python3.10/site-packages/xgboost/core.py:158: UserWarning: [07:12:14] WARNING: /workspace/src/learner.cc:872: Found JSON model saved before XGBoost 1.6, please save the model using current version again. The support for old JSON model will be discontinued in XGBoost 2.3.\n",
      "  warnings.warn(smsg, UserWarning)\n"
     ]
    },
    {
     "name": "stdout",
     "output_type": "stream",
     "text": [
      "Run3_140_MeV_KDAR_2shr\n",
      "963\n",
      "Calculated predictions...\n",
      "Fixed column labelling...\n"
     ]
    },
    {
     "name": "stderr",
     "output_type": "stream",
     "text": [
      "/exp/uboone/app/users/jbateman/conda/envs/HPS_ana/lib/python3.10/site-packages/xgboost/core.py:158: UserWarning: [07:12:14] WARNING: /workspace/src/learner.cc:872: Found JSON model saved before XGBoost 1.6, please save the model using current version again. The support for old JSON model will be discontinued in XGBoost 2.3.\n",
      "  warnings.warn(smsg, UserWarning)\n"
     ]
    },
    {
     "name": "stdout",
     "output_type": "stream",
     "text": [
      "Run3_145_MeV_KDIF_1shr\n",
      "6046\n",
      "Calculated predictions...\n",
      "Fixed column labelling...\n"
     ]
    },
    {
     "name": "stderr",
     "output_type": "stream",
     "text": [
      "/exp/uboone/app/users/jbateman/conda/envs/HPS_ana/lib/python3.10/site-packages/xgboost/core.py:158: UserWarning: [07:12:15] WARNING: /workspace/src/learner.cc:872: Found JSON model saved before XGBoost 1.6, please save the model using current version again. The support for old JSON model will be discontinued in XGBoost 2.3.\n",
      "  warnings.warn(smsg, UserWarning)\n"
     ]
    },
    {
     "name": "stdout",
     "output_type": "stream",
     "text": [
      "Run3_145_MeV_KDIF_2shr\n",
      "963\n",
      "Calculated predictions...\n",
      "Fixed column labelling...\n"
     ]
    },
    {
     "name": "stderr",
     "output_type": "stream",
     "text": [
      "/exp/uboone/app/users/jbateman/conda/envs/HPS_ana/lib/python3.10/site-packages/xgboost/core.py:158: UserWarning: [07:12:15] WARNING: /workspace/src/learner.cc:872: Found JSON model saved before XGBoost 1.6, please save the model using current version again. The support for old JSON model will be discontinued in XGBoost 2.3.\n",
      "  warnings.warn(smsg, UserWarning)\n"
     ]
    },
    {
     "name": "stdout",
     "output_type": "stream",
     "text": [
      "Run3_145_MeV_KDAR_1shr\n",
      "6046\n",
      "Calculated predictions...\n",
      "Fixed column labelling...\n"
     ]
    },
    {
     "name": "stderr",
     "output_type": "stream",
     "text": [
      "/exp/uboone/app/users/jbateman/conda/envs/HPS_ana/lib/python3.10/site-packages/xgboost/core.py:158: UserWarning: [07:12:16] WARNING: /workspace/src/learner.cc:872: Found JSON model saved before XGBoost 1.6, please save the model using current version again. The support for old JSON model will be discontinued in XGBoost 2.3.\n",
      "  warnings.warn(smsg, UserWarning)\n"
     ]
    },
    {
     "name": "stdout",
     "output_type": "stream",
     "text": [
      "Run3_145_MeV_KDAR_2shr\n",
      "963\n",
      "Calculated predictions...\n",
      "Fixed column labelling...\n"
     ]
    },
    {
     "name": "stderr",
     "output_type": "stream",
     "text": [
      "/exp/uboone/app/users/jbateman/conda/envs/HPS_ana/lib/python3.10/site-packages/xgboost/core.py:158: UserWarning: [07:12:16] WARNING: /workspace/src/learner.cc:872: Found JSON model saved before XGBoost 1.6, please save the model using current version again. The support for old JSON model will be discontinued in XGBoost 2.3.\n",
      "  warnings.warn(smsg, UserWarning)\n"
     ]
    },
    {
     "name": "stdout",
     "output_type": "stream",
     "text": [
      "Run3_150_MeV_KDIF_1shr\n",
      "6046\n",
      "Calculated predictions...\n",
      "Fixed column labelling...\n"
     ]
    },
    {
     "name": "stderr",
     "output_type": "stream",
     "text": [
      "/exp/uboone/app/users/jbateman/conda/envs/HPS_ana/lib/python3.10/site-packages/xgboost/core.py:158: UserWarning: [07:12:17] WARNING: /workspace/src/learner.cc:872: Found JSON model saved before XGBoost 1.6, please save the model using current version again. The support for old JSON model will be discontinued in XGBoost 2.3.\n",
      "  warnings.warn(smsg, UserWarning)\n"
     ]
    },
    {
     "name": "stdout",
     "output_type": "stream",
     "text": [
      "Run3_150_MeV_KDIF_2shr\n",
      "963\n",
      "Calculated predictions...\n",
      "Fixed column labelling...\n"
     ]
    },
    {
     "name": "stderr",
     "output_type": "stream",
     "text": [
      "/exp/uboone/app/users/jbateman/conda/envs/HPS_ana/lib/python3.10/site-packages/xgboost/core.py:158: UserWarning: [07:12:17] WARNING: /workspace/src/learner.cc:872: Found JSON model saved before XGBoost 1.6, please save the model using current version again. The support for old JSON model will be discontinued in XGBoost 2.3.\n",
      "  warnings.warn(smsg, UserWarning)\n"
     ]
    },
    {
     "name": "stdout",
     "output_type": "stream",
     "text": [
      "Run3_150_MeV_KDAR_1shr\n",
      "6046\n",
      "Calculated predictions...\n",
      "Fixed column labelling...\n"
     ]
    },
    {
     "name": "stderr",
     "output_type": "stream",
     "text": [
      "/exp/uboone/app/users/jbateman/conda/envs/HPS_ana/lib/python3.10/site-packages/xgboost/core.py:158: UserWarning: [07:12:18] WARNING: /workspace/src/learner.cc:872: Found JSON model saved before XGBoost 1.6, please save the model using current version again. The support for old JSON model will be discontinued in XGBoost 2.3.\n",
      "  warnings.warn(smsg, UserWarning)\n"
     ]
    },
    {
     "name": "stdout",
     "output_type": "stream",
     "text": [
      "Run3_150_MeV_KDAR_2shr\n",
      "963\n",
      "Calculated predictions...\n",
      "Fixed column labelling...\n"
     ]
    },
    {
     "name": "stderr",
     "output_type": "stream",
     "text": [
      "/exp/uboone/app/users/jbateman/conda/envs/HPS_ana/lib/python3.10/site-packages/xgboost/core.py:158: UserWarning: [07:12:18] WARNING: /workspace/src/learner.cc:872: Found JSON model saved before XGBoost 1.6, please save the model using current version again. The support for old JSON model will be discontinued in XGBoost 2.3.\n",
      "  warnings.warn(smsg, UserWarning)\n"
     ]
    },
    {
     "name": "stdout",
     "output_type": "stream",
     "text": [
      "Run3_200_MeV_KDIF_1shr\n",
      "6046\n",
      "Calculated predictions...\n",
      "Fixed column labelling...\n"
     ]
    },
    {
     "name": "stderr",
     "output_type": "stream",
     "text": [
      "/exp/uboone/app/users/jbateman/conda/envs/HPS_ana/lib/python3.10/site-packages/xgboost/core.py:158: UserWarning: [07:12:19] WARNING: /workspace/src/learner.cc:872: Found JSON model saved before XGBoost 1.6, please save the model using current version again. The support for old JSON model will be discontinued in XGBoost 2.3.\n",
      "  warnings.warn(smsg, UserWarning)\n"
     ]
    },
    {
     "name": "stdout",
     "output_type": "stream",
     "text": [
      "Run3_200_MeV_KDIF_2shr\n",
      "963\n",
      "Calculated predictions...\n",
      "Fixed column labelling...\n"
     ]
    },
    {
     "name": "stderr",
     "output_type": "stream",
     "text": [
      "/exp/uboone/app/users/jbateman/conda/envs/HPS_ana/lib/python3.10/site-packages/xgboost/core.py:158: UserWarning: [07:12:19] WARNING: /workspace/src/learner.cc:872: Found JSON model saved before XGBoost 1.6, please save the model using current version again. The support for old JSON model will be discontinued in XGBoost 2.3.\n",
      "  warnings.warn(smsg, UserWarning)\n"
     ]
    },
    {
     "name": "stdout",
     "output_type": "stream",
     "text": [
      "Run3_200_MeV_KDAR_1shr\n",
      "6046\n",
      "Calculated predictions...\n",
      "Fixed column labelling...\n"
     ]
    },
    {
     "name": "stderr",
     "output_type": "stream",
     "text": [
      "/exp/uboone/app/users/jbateman/conda/envs/HPS_ana/lib/python3.10/site-packages/xgboost/core.py:158: UserWarning: [07:12:19] WARNING: /workspace/src/learner.cc:872: Found JSON model saved before XGBoost 1.6, please save the model using current version again. The support for old JSON model will be discontinued in XGBoost 2.3.\n",
      "  warnings.warn(smsg, UserWarning)\n"
     ]
    },
    {
     "name": "stdout",
     "output_type": "stream",
     "text": [
      "Run3_200_MeV_KDAR_2shr\n",
      "963\n",
      "Calculated predictions...\n",
      "Fixed column labelling...\n"
     ]
    }
   ],
   "source": [
    "BDT_path = '/exp/uboone/data/users/jbateman/workdir/aadi/jupyter_koto/Booster2sens/'\n",
    "\n",
    "# /Run1_150_MeV_NEW/BDT_models/BDT_Model_Top_14_features_Run1_150_MeVKDIF_1shr_Final_Main_BDT'\n",
    "# AllVar_Selected_Run3_NuMI_Overlay_1shr_Updated_Flux\n",
    "bdt_run = 'Run3'\n",
    "\n",
    "mass_points = ['100_MeV', '125_MeV', '130_MeV', '135_MeV','140_MeV', '145_MeV', '150_MeV', '200_MeV']\n",
    "kaons = ['KDIF', 'KDAR']\n",
    "shrs = ['1shr','2shr']\n",
    "\n",
    "df_arr = [df_temp_1shr, df_temp_2shr]\n",
    "\n",
    "df_pred_dict = {}\n",
    "\n",
    "for mass in mass_points:\n",
    "    for k in kaons:\n",
    "        i = 0\n",
    "        for shr in shrs:\n",
    "            BDT_name = f\"/{bdt_run}_{mass}_NEW/BDT_models/BDT_Model_Top_14_features_{bdt_run}_{mass}{k}_{shr}_Final_Main_BDT\"\n",
    "            booster = joblib.load(BDT_path + BDT_name)\n",
    "            df_temp = df_arr[i].copy()\n",
    "            print(f\"{bdt_run}_{mass}_{k}_{shr}\")\n",
    "            print(len(df_temp['run_ls']))\n",
    "            cols_for_booster = booster.feature_names\n",
    "            untrnd_df = df_temp[cols_for_booster].copy()\n",
    "            feature_names = untrnd_df.columns.to_list()\n",
    "            untrnd_final = xgboost.DMatrix(data=untrnd_df[feature_names],missing=-999.0,feature_names=feature_names)\n",
    "            pred = booster.predict(untrnd_final)\n",
    "            print('Calculated predictions...')\n",
    "            \n",
    "            df_temp['pred'] = pred\n",
    "            \n",
    "            cols_to_use  = ['weightsPPFX_ls', 'weightsGenie_ls', 'weightsReint_ls']\n",
    "            if shr == '2shr' and (sample == 'Overlay' or sample == 'Dirt'): \n",
    "                cols_to_drop = ['weightsPPFX_sls', 'weightsGenie_sls', 'weightsReint_sls']\n",
    "                df_temp = df_temp.drop(cols_to_drop, axis=1)\n",
    "            df_temp = df_temp.rename(columns={'weightsPPFX_ls': 'weightsPPFX',\n",
    "                            'weightsGenie_ls': 'weightsGenie',\n",
    "                            'weightsReint_ls': 'weightsReint',\n",
    "                            # Renaming these params for parity with old pkl files\n",
    "                            'mc_px_ls': 'mc_primary_px_ls',\n",
    "                            'mc_py_ls': 'mc_primary_py_ls',\n",
    "                            'mc_pz_ls': 'mc_primary_pz_ls',\n",
    "                            'mc_px_sls': 'mc_primary_px_sls',\n",
    "                            'mc_py_sls': 'mc_primary_py_sls',\n",
    "                            'mc_pz_sls': 'mc_primary_pz_sls',\n",
    "                            'mc_pdg_ls': 'mc_primary_pdg_ls',\n",
    "                            'mc_pdg_sls': 'mc_primary_pdg_sls'\n",
    "                            })\n",
    "            \n",
    "            df_temp['is_trained'] = 0\n",
    "            df_temp['run'] = df_temp['run_ls']\n",
    "            df_temp['sub'] = df_temp['sub_ls']\n",
    "            df_temp['evt'] = df_temp['evt_ls']\n",
    "            df_temp['nslice'] = df_temp['nslice_ls']\n",
    "            print('Fixed column labelling...')\n",
    "            \n",
    "            # Calculating these parameters early, to save so much time on importing these pkls later\n",
    "            if sample == 'Overlay':\n",
    "                df_temp['thsnd_weight_genie'] = (['yes' if all(a == 1000 for a in i) else 'no' for i in df_temp['weightsGenie']])\n",
    "                df_temp['thsnd_weight_ppfx'] = (['yes' if all(a == 1000 for a in i) else 'no' for i in df_temp['weightsPPFX']])\n",
    "                df_temp['thsnd_weight_reint'] = (['yes' if all(a == 1000 for a in i) else 'no' for i in df_temp['weightsReint']])\n",
    "                \n",
    "                df_temp['inf_weight_genie'] = (['yes' if any(a>65534 for a in i) else 'no' for i in df_temp['weightsGenie']])\n",
    "                df_temp['inf_weight_ppfx'] = (['yes' if any(a>65534 for a in i) else 'no' for i in df_temp['weightsPPFX']])\n",
    "                df_temp['inf_weight_reint'] = (['yes' if any(a>65534 for a in i) else 'no' for i in df_temp['weightsReint']])\n",
    "\n",
    "                df_temp['ones_weight_genie'] = (['yes' if all(a == 1 for a in i) else 'no' for i in df_temp['weightsGenie']])\n",
    "                df_temp['ones_weight_ppfx'] = (['yes' if all(a == 1 for a in i) else 'no' for i in df_temp['weightsPPFX']])\n",
    "                df_temp['ones_weight_reint'] = (['yes' if all(a == 1 for a in i) else 'no' for i in df_temp['weightsReint']])\n",
    "                \n",
    "                df_temp['zero_weight_genie'] = (['yes' if all(a == 0 for a in i) else 'no' for i in df_temp['weightsGenie']])\n",
    "                df_temp['zero_weight_ppfx'] = (['yes' if all(a == 0 for a in i) else 'no' for i in df_temp['weightsPPFX']])\n",
    "                df_temp['zero_weight_reint'] = (['yes' if all(a == 0 for a in i) else 'no' for i in df_temp['weightsReint']])\n",
    "                print('Calculated PPFX, Genie, Reint flags...')\n",
    "            df_pred_dict[f\"{run}_{mass}_{k}_{shr}\"] = df_temp\n",
    "\n",
    "            i+=1\n",
    "\n",
    "\n",
    "            "
   ]
  },
  {
   "cell_type": "markdown",
   "metadata": {},
   "source": [
    "Removing the ppfx_cv_x/y that appears during dataframe merging"
   ]
  },
  {
   "cell_type": "code",
   "execution_count": null,
   "metadata": {},
   "outputs": [],
   "source": []
  },
  {
   "cell_type": "code",
   "execution_count": null,
   "metadata": {},
   "outputs": [
    {
     "name": "stdout",
     "output_type": "stream",
     "text": [
      "Saved AllVar_Selected_Run4b_NuMI_Ext_KDIF_100_1shr_PPFX_pred_NEW.pkl\n",
      "Saved AllVar_Selected_Run4b_NuMI_Ext_KDIF_100_2shr_PPFX_pred_NEW.pkl\n",
      "Saved AllVar_Selected_Run4b_NuMI_Ext_KDAR_100_1shr_PPFX_pred_NEW.pkl\n",
      "Saved AllVar_Selected_Run4b_NuMI_Ext_KDAR_100_2shr_PPFX_pred_NEW.pkl\n",
      "Saved AllVar_Selected_Run4b_NuMI_Ext_KDIF_125_1shr_PPFX_pred_NEW.pkl\n",
      "Saved AllVar_Selected_Run4b_NuMI_Ext_KDIF_125_2shr_PPFX_pred_NEW.pkl\n",
      "Saved AllVar_Selected_Run4b_NuMI_Ext_KDAR_125_1shr_PPFX_pred_NEW.pkl\n",
      "Saved AllVar_Selected_Run4b_NuMI_Ext_KDAR_125_2shr_PPFX_pred_NEW.pkl\n",
      "Saved AllVar_Selected_Run4b_NuMI_Ext_KDIF_130_1shr_PPFX_pred_NEW.pkl\n",
      "Saved AllVar_Selected_Run4b_NuMI_Ext_KDIF_130_2shr_PPFX_pred_NEW.pkl\n",
      "Saved AllVar_Selected_Run4b_NuMI_Ext_KDAR_130_1shr_PPFX_pred_NEW.pkl\n",
      "Saved AllVar_Selected_Run4b_NuMI_Ext_KDAR_130_2shr_PPFX_pred_NEW.pkl\n",
      "Saved AllVar_Selected_Run4b_NuMI_Ext_KDIF_135_1shr_PPFX_pred_NEW.pkl\n",
      "Saved AllVar_Selected_Run4b_NuMI_Ext_KDIF_135_2shr_PPFX_pred_NEW.pkl\n",
      "Saved AllVar_Selected_Run4b_NuMI_Ext_KDAR_135_1shr_PPFX_pred_NEW.pkl\n",
      "Saved AllVar_Selected_Run4b_NuMI_Ext_KDAR_135_2shr_PPFX_pred_NEW.pkl\n",
      "Saved AllVar_Selected_Run4b_NuMI_Ext_KDIF_140_1shr_PPFX_pred_NEW.pkl\n",
      "Saved AllVar_Selected_Run4b_NuMI_Ext_KDIF_140_2shr_PPFX_pred_NEW.pkl\n",
      "Saved AllVar_Selected_Run4b_NuMI_Ext_KDAR_140_1shr_PPFX_pred_NEW.pkl\n"
     ]
    },
    {
     "name": "stdout",
     "output_type": "stream",
     "text": [
      "Saved AllVar_Selected_Run4b_NuMI_Ext_KDAR_140_2shr_PPFX_pred_NEW.pkl\n",
      "Saved AllVar_Selected_Run4b_NuMI_Ext_KDIF_145_1shr_PPFX_pred_NEW.pkl\n",
      "Saved AllVar_Selected_Run4b_NuMI_Ext_KDIF_145_2shr_PPFX_pred_NEW.pkl\n",
      "Saved AllVar_Selected_Run4b_NuMI_Ext_KDAR_145_1shr_PPFX_pred_NEW.pkl\n",
      "Saved AllVar_Selected_Run4b_NuMI_Ext_KDAR_145_2shr_PPFX_pred_NEW.pkl\n",
      "Saved AllVar_Selected_Run4b_NuMI_Ext_KDIF_150_1shr_PPFX_pred_NEW.pkl\n",
      "Saved AllVar_Selected_Run4b_NuMI_Ext_KDIF_150_2shr_PPFX_pred_NEW.pkl\n",
      "Saved AllVar_Selected_Run4b_NuMI_Ext_KDAR_150_1shr_PPFX_pred_NEW.pkl\n",
      "Saved AllVar_Selected_Run4b_NuMI_Ext_KDAR_150_2shr_PPFX_pred_NEW.pkl\n",
      "Saved AllVar_Selected_Run4b_NuMI_Ext_KDIF_200_1shr_PPFX_pred_NEW.pkl\n",
      "Saved AllVar_Selected_Run4b_NuMI_Ext_KDIF_200_2shr_PPFX_pred_NEW.pkl\n",
      "Saved AllVar_Selected_Run4b_NuMI_Ext_KDAR_200_1shr_PPFX_pred_NEW.pkl\n",
      "Saved AllVar_Selected_Run4b_NuMI_Ext_KDAR_200_2shr_PPFX_pred_NEW.pkl\n"
     ]
    }
   ],
   "source": [
    "for mass in mass_points:\n",
    "    mass_int = int(mass.split('_')[0]) \n",
    "    for k in kaons:\n",
    "        i = 0\n",
    "        for shr in shrs:\n",
    "            sample_name = sample\n",
    "            if sample == 'Data':\n",
    "                sample_name = 'Opendata'\n",
    "            df_temp = df_pred_dict[f\"{run}_{mass}_{k}_{shr}\"].copy()\n",
    "            if 'ppfx_cv_x_ls' in df_temp.columns and 'ppfx_cv_y_ls' in df_temp.columns:\n",
    "                if all(df_temp['ppfx_cv_x_ls'] == df_temp['ppfx_cv_y_ls']):\n",
    "                    print('PPFX CV is the same for both slices, so removing the second slice.')\n",
    "                    df_temp.drop(columns=['ppfx_cv_y_ls'], inplace=True)\n",
    "                    df_temp.rename(columns={'ppfx_cv_x_ls': 'ppfx_cv_ls'}, inplace=True)\n",
    "            if 'ppfx_cv_x_sls' in df_temp.columns and 'ppfx_cv_y_sls' in df_temp.columns:\n",
    "                if all(df_temp['ppfx_cv_x_sls'] == df_temp['ppfx_cv_y_sls']):\n",
    "                    print('PPFX CV is the same for both slices, so removing the second slice.')\n",
    "                    df_temp.drop(columns=['ppfx_cv_y_sls'], inplace=True)\n",
    "                    df_temp.rename(columns={'ppfx_cv_x_sls': 'ppfx_cv_sls'}, inplace=True)\n",
    "\n",
    "            df_temp.to_pickle(loc_BDT_input + f\"AllVar_Selected_{run}_NuMI_{sample_name}_{k}_{mass_int}_{shr}_PPFX_pred_NEW.pkl\")\n",
    "            print(f\"Saved AllVar_Selected_{run}_NuMI_{sample_name}_{k}_{mass_int}_{shr}_PPFX_pred_NEW.pkl\")"
   ]
  },
  {
   "cell_type": "markdown",
   "metadata": {},
   "source": [
    "## Taking a look at the detsys samples...\n",
    "How do we need our detsys samples to be formatted?"
   ]
  },
  {
   "cell_type": "code",
   "execution_count": null,
   "metadata": {},
   "outputs": [],
   "source": [
    "ovl_detsys_labels = [\n",
    "        \"CV\",\n",
    "        \"LYAttenuation\",\n",
    "        \"LYDown\",\n",
    "        \"LYRayleigh\",\n",
    "        \"Recomb2\",\n",
    "        \"SCE\",\n",
    "        \"WireModThetaXZ\",\n",
    "        \"WireModThetaYZ\",\n",
    "        \"WireModdEdX\",\n",
    "        \"WireModX\",\n",
    "        \"WireModYZ\",\n",
    "            ]"
   ]
  },
  {
   "cell_type": "code",
   "execution_count": null,
   "metadata": {},
   "outputs": [],
   "source": [
    "root_dir = \"/exp/uboone/data/users/jbateman/workdir/HPS_uboone_analysis/\"\n",
    "detsys_mass = '150' \n",
    "detsys_bkg_input_dir = root_dir+'/Final_detector_systematics_BACKGROUND/'+detsys_mass+'_MeV/'\n",
    "fhc_rhc_str = 'fhc' # 'fhc' or 'RHC'\n",
    "KDIF_KDAR_str_lower = 'kdif' # 'kdif' or 'kdar'\n",
    "nshr = '1shr' # '1shr' or '2shr'\n",
    "df_ovl_detsys = pd.read_pickle(detsys_bkg_input_dir + \"bkg_\" + fhc_rhc_str + '_' + detsys_mass + '_MeV_' + nshr + '_' + KDIF_KDAR_str_lower +'.pkl')"
   ]
  }
 ],
 "metadata": {
  "kernelspec": {
   "display_name": "HPS_ana",
   "language": "python",
   "name": "python3"
  },
  "language_info": {
   "codemirror_mode": {
    "name": "ipython",
    "version": 3
   },
   "file_extension": ".py",
   "mimetype": "text/x-python",
   "name": "python",
   "nbconvert_exporter": "python",
   "pygments_lexer": "ipython3",
   "version": "3.10.15"
  }
 },
 "nbformat": 4,
 "nbformat_minor": 2
}
