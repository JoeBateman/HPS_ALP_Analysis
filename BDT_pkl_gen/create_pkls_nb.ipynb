{
 "cells": [
  {
   "cell_type": "markdown",
   "metadata": {},
   "source": [
    "# Creating BDT input pkls from input ntuples\n",
    "\n",
    "as well as the final pkls for use in the main analysis.\n",
    "\n",
    "The purpose of this notebooke was to see if the updated NuMI flux ntuples could be ported into the main analysis body, and the effect this would have."
   ]
  },
  {
   "cell_type": "code",
   "execution_count": 1,
   "metadata": {},
   "outputs": [],
   "source": [
    "# So that the notebook us updated to reflect changes in the .py file:\n",
    "%load_ext autoreload\n",
    "%autoreload 2\n",
    "from create_pkls import * # .py file used to define most functions"
   ]
  },
  {
   "cell_type": "markdown",
   "metadata": {},
   "source": [
    "## Creating a pickle for the main variables defined in create_pkls.py\n",
    "\n",
    "Main does NOT include the ppfx and other weights, as the root tree cannot be flattened otherwise.\n",
    "3_Genie_background.ipynb has example functions for how they should be saved separately.\n",
    "\n",
    "\n",
    "They selected into a separate dataframe and merged with the main, saved as a complete pkl."
   ]
  },
  {
   "cell_type": "code",
   "execution_count": 80,
   "metadata": {},
   "outputs": [],
   "source": [
    "# Checking whether this code works with the original detsys files \n",
    "detvar_ntuple_path = '/exp/uboone/data/users/kmistry/work/MCC9/searchingfornues/ntuple_files_detvar_newtune/run3/'\n",
    "filename_root = 'neutrinoselection_filt_run3_overlay_detvar_'\n",
    "name_extention = 'LYAttenuation.root' # Other examples are given at the bottom of this notebook"
   ]
  },
  {
   "cell_type": "code",
   "execution_count": 79,
   "metadata": {},
   "outputs": [
    {
     "name": "stdout",
     "output_type": "stream",
     "text": [
      "Sample POT: 3.312e+20\n"
     ]
    },
    {
     "data": {
      "image/png": "[encoded data removed]",
      "text/plain": [
       "<Figure size 640x480 with 1 Axes>"
      ]
     },
     "metadata": {},
     "output_type": "display_data"
    },
    {
     "name": "stdout",
     "output_type": "stream",
     "text": [
      "Created main dataframe.\n",
      "File path: /exp/uboone/data/users/jbateman/workdir/HPS_uboone_analysis/NewFlux/BDT_input_pkl/\n",
      "pkl name: AllVar_UnSelected_Run3_NuMI_detsys_old_Weights_Updated_Flux\n"
     ]
    }
   ],
   "source": [
    "# Parameters to set so that files are saved/imported correctly\n",
    "run = 'Run3' # Currently only Run3 ntuple\n",
    "sample = 'detsys_old' # 'Data', 'Signal', 'Overlay', 'Dirt', 'EXT'\n",
    "\n",
    "# Defining the pkl save path\n",
    "loc_BDT_input = '/exp/uboone/data/users/jbateman/workdir/HPS_uboone_analysis/NewFlux/BDT_input_pkl/'\n",
    "\n",
    "# Import the ntuples you want to process and produce pkls for.\n",
    "# Currently using a copy of the update NuMI flux pelee sample\n",
    "loc_ntuple = '/exp/uboone/data/users/jbateman/workdir/HPS_uboone_analysis/NewFlux/' \n",
    "\n",
    "\n",
    "# loc_ntuple  = '/exp/uboone/data/users/kmistry/work/MCC9/searchingfornues/ntuple_files_detvar_newtune/run3/' # Old detvar location   \n",
    "\n",
    "\n",
    "ntuple_name =  filename_root+name_extention # 'numi_nu_pelee_ntuples_run3_rhc_g4.10.4_full.root'\n",
    "\n",
    "# Alternative path - using patricks origanl copy\n",
    "ntuple_path = '/exp/uboone/data/users/pgreen/standard_pelee_ntuples/alternative_flux_g4.10.4/numi_nu_pelee_ntuples_run3_rhc_g4.10.4_full.root'\n",
    "\n",
    "remake_pkl = True # If True, will remake the background pkl file. \n",
    "if remake_pkl:\n",
    "    \n",
    "    root_tree = uproot.open(loc_ntuple + ntuple_name)['nuselection;1']\n",
    "    # Retrieving the POT information from the SubRun tree\n",
    "    pot_df = root_tree['SubRun'].pandas.df()\n",
    "\n",
    "    root_tree = root_tree['NeutrinoSelectionFilter']\n",
    "\n",
    "    print('Sample POT: {:.4}'.format(sum(pot_df['pot'])))\n",
    "\n",
    "    plt.hist(pot_df['pot'], bins=50)\n",
    "\n",
    "    plt.yscale('log')\n",
    "    plt.xlabel('POT per Event')\n",
    "    plt.ylabel('Number of Events')\n",
    "    plt.show()\n",
    "\n",
    "    additional_variables = mc_variables+weights_variables\n",
    "    \n",
    "    # Option to add extra variables to main/additional arrays, based on the sample type.\n",
    "    if sample == 'Overlay':\n",
    "        Main_variables += [\"ppfx_cv\"]\n",
    "    \n",
    "    df_main_vars = root_tree.pandas.df(Main_variables,flatten=True) # Cannot do main & weights/MC vars combined, as weights & MC can't be flattened!\n",
    "    print('Created main dataframe.')\n",
    "    df_jagged_vars = root_tree.pandas.df(additional_variables, flatten=False)\n",
    "\n",
    "    df_all_vars = pd.merge(df_main_vars, df_jagged_vars, on='entry', how='inner')\n",
    "\n",
    "    df_all_vars.to_pickle(loc_BDT_input+f'AllVar_UnSelected_{run}_NuMI_{sample}_Weights_Updated_Flux.pkl') # Saving the main variables and weights to a pkl file for quicker loading\n",
    "    print(f'File path: {loc_BDT_input}')\n",
    "    print(f'pkl name: AllVar_UnSelected_{run}_NuMI_{sample}_Weights_Updated_Flux')\n",
    "    "
   ]
  },
  {
   "cell_type": "markdown",
   "metadata": {},
   "source": [
    "## Creating separate 1 shower and 2 shower samples\n",
    "\n",
    "and saving them for access later."
   ]
  },
  {
   "cell_type": "code",
   "execution_count": 83,
   "metadata": {},
   "outputs": [
    {
     "name": "stdout",
     "output_type": "stream",
     "text": [
      "Before FV cut\n",
      "150033\n",
      "After FV cut\n",
      "111625\n",
      "After nu_purity_from_pfp cut\n",
      "111625\n",
      "After CRT cut\n",
      "82605\n",
      "After trk_score cut\n",
      "21765\n",
      "After shr_pfp_id_v cut\n",
      "19507\n",
      "After n_showers_contained_MCStool cut\n",
      "6960\n",
      "After Counts==1 cut\n",
      "6124\n"
     ]
    },
    {
     "name": "stderr",
     "output_type": "stream",
     "text": [
      "/exp/uboone/app/users/jbateman/workdir/HPS_uboone_analysis/BDT_pkl_gen/create_pkls.py:164: SettingWithCopyWarning: \n",
      "A value is trying to be set on a copy of a slice from a DataFrame.\n",
      "Try using .loc[row_indexer,col_indexer] = value instead\n",
      "\n",
      "See the caveats in the documentation: https://pandas.pydata.org/pandas-docs/stable/user_guide/indexing.html#returning-a-view-versus-a-copy\n",
      "  df[\"temp_ID\"] = df[\"run\"].apply(str) +\"_\"+ df[\"sub\"].apply(str) +\"_\"+ df[\"evt\"].apply(str)\n",
      "/exp/uboone/app/users/jbateman/workdir/HPS_uboone_analysis/BDT_pkl_gen/create_pkls.py:166: SettingWithCopyWarning: \n",
      "A value is trying to be set on a copy of a slice from a DataFrame.\n",
      "Try using .loc[row_indexer,col_indexer] = value instead\n",
      "\n",
      "See the caveats in the documentation: https://pandas.pydata.org/pandas-docs/stable/user_guide/indexing.html#returning-a-view-versus-a-copy\n",
      "  df['Counts'] = df.groupby(['entry'])['temp_ID'].transform('count')\n"
     ]
    },
    {
     "name": "stdout",
     "output_type": "stream",
     "text": [
      "final\n",
      "6124\n"
     ]
    },
    {
     "name": "stderr",
     "output_type": "stream",
     "text": [
      "/exp/uboone/app/users/jbateman/workdir/HPS_uboone_analysis/BDT_pkl_gen/create_pkls.py:377: FutureWarning: Setting an item of incompatible dtype is deprecated and will raise an error in a future version of pandas. Value '[8.6 8.6]' has dtype incompatible with int64, please explicitly cast to a compatible dtype first.\n",
      "  df_new.loc[(df_new['theta_nu']>=2.14) & (df_new['nu_e_ls']>=0.2354) & (df_new['nu_e_ls']<=0.2356), ['KDAR_scale']] *= KDAR_factor\n"
     ]
    },
    {
     "name": "stdout",
     "output_type": "stream",
     "text": [
      "After FV cut\n",
      "111625\n",
      "After nu_purity_from_pfp cut\n",
      "111625\n",
      "After FV cut\n",
      "111625\n",
      "After CRT cut\n",
      "82605\n",
      "After trk_score cut\n",
      "21765\n",
      "After shr_pfp_id_v cut\n",
      "19507\n",
      "After n_showers_contained_MCStool cut\n",
      "5721\n",
      "After Counts==2 cut\n",
      "5160\n"
     ]
    },
    {
     "name": "stderr",
     "output_type": "stream",
     "text": [
      "/exp/uboone/app/users/jbateman/workdir/HPS_uboone_analysis/BDT_pkl_gen/create_pkls.py:205: SettingWithCopyWarning: \n",
      "A value is trying to be set on a copy of a slice from a DataFrame.\n",
      "Try using .loc[row_indexer,col_indexer] = value instead\n",
      "\n",
      "See the caveats in the documentation: https://pandas.pydata.org/pandas-docs/stable/user_guide/indexing.html#returning-a-view-versus-a-copy\n",
      "  df[\"temp_ID\"] = df[\"run\"].apply(str) +\"_\"+ df[\"sub\"].apply(str) +\"_\"+ df[\"evt\"].apply(str)\n",
      "/exp/uboone/app/users/jbateman/workdir/HPS_uboone_analysis/BDT_pkl_gen/create_pkls.py:207: SettingWithCopyWarning: \n",
      "A value is trying to be set on a copy of a slice from a DataFrame.\n",
      "Try using .loc[row_indexer,col_indexer] = value instead\n",
      "\n",
      "See the caveats in the documentation: https://pandas.pydata.org/pandas-docs/stable/user_guide/indexing.html#returning-a-view-versus-a-copy\n",
      "  df['Counts'] = df.groupby(['entry'])['temp_ID'].transform('count')\n",
      "/exp/uboone/app/users/jbateman/workdir/HPS_uboone_analysis/BDT_pkl_gen/create_pkls.py:219: FutureWarning: The provided callable <built-in function max> is currently using SeriesGroupBy.max. In a future version of pandas, the provided callable will be used directly. To keep current behavior pass the string \"max\" instead.\n",
      "  df['leading_shr_hits'] = df['pfnhits'].groupby(\"entry\").transform(max) == df['pfnhits']\n",
      "/exp/uboone/app/users/jbateman/workdir/HPS_uboone_analysis/BDT_pkl_gen/create_pkls.py:220: FutureWarning: The provided callable <built-in function max> is currently using SeriesGroupBy.max. In a future version of pandas, the provided callable will be used directly. To keep current behavior pass the string \"max\" instead.\n",
      "  df['leading_shr_energy'] = df['shr_energy_y_v'].groupby(\"entry\").transform(max) == df['shr_energy_y_v']\n",
      "/exp/uboone/app/users/jbateman/workdir/HPS_uboone_analysis/BDT_pkl_gen/create_pkls.py:255: FutureWarning: Setting an item of incompatible dtype is deprecated and will raise in a future error of pandas. Value '[16878 16878 17308 ... 15652 18903 18903]' has dtype incompatible with int32, please explicitly cast to a compatible dtype first.\n",
      "  df.update(df_temp_temp)\n",
      "/exp/uboone/app/users/jbateman/workdir/HPS_uboone_analysis/BDT_pkl_gen/create_pkls.py:255: FutureWarning: Setting an item of incompatible dtype is deprecated and will raise in a future error of pandas. Value '[ 39  39 119 ...  41  61  61]' has dtype incompatible with int32, please explicitly cast to a compatible dtype first.\n",
      "  df.update(df_temp_temp)\n",
      "/exp/uboone/app/users/jbateman/workdir/HPS_uboone_analysis/BDT_pkl_gen/create_pkls.py:255: FutureWarning: Setting an item of incompatible dtype is deprecated and will raise in a future error of pandas. Value '[1980 1980 5983 ... 2085 3077 3077]' has dtype incompatible with int32, please explicitly cast to a compatible dtype first.\n",
      "  df.update(df_temp_temp)\n",
      "/exp/uboone/app/users/jbateman/workdir/HPS_uboone_analysis/BDT_pkl_gen/create_pkls.py:255: FutureWarning: Setting an item of incompatible dtype is deprecated and will raise in a future error of pandas. Value '[857  79 573 ...  82 261  16]' has dtype incompatible with int32, please explicitly cast to a compatible dtype first.\n",
      "  df.update(df_temp_temp)\n",
      "/exp/uboone/app/users/jbateman/workdir/HPS_uboone_analysis/BDT_pkl_gen/create_pkls.py:255: FutureWarning: Setting an item of incompatible dtype is deprecated and will raise in a future error of pandas. Value '[14 14 14 ... 14 12 12]' has dtype incompatible with int32, please explicitly cast to a compatible dtype first.\n",
      "  df.update(df_temp_temp)\n",
      "/exp/uboone/app/users/jbateman/workdir/HPS_uboone_analysis/BDT_pkl_gen/create_pkls.py:255: FutureWarning: Setting an item of incompatible dtype is deprecated and will raise in a future error of pandas. Value '[0 0 1 ... 0 0 0]' has dtype incompatible with int32, please explicitly cast to a compatible dtype first.\n",
      "  df.update(df_temp_temp)\n",
      "/exp/uboone/app/users/jbateman/workdir/HPS_uboone_analysis/BDT_pkl_gen/create_pkls.py:255: FutureWarning: Setting an item of incompatible dtype is deprecated and will raise in a future error of pandas. Value '[321 321 321 ... 211 130 130]' has dtype incompatible with int32, please explicitly cast to a compatible dtype first.\n",
      "  df.update(df_temp_temp)\n",
      "/exp/uboone/app/users/jbateman/workdir/HPS_uboone_analysis/BDT_pkl_gen/create_pkls.py:255: FutureWarning: Setting an item of incompatible dtype is deprecated and will raise in a future error of pandas. Value '[1 1 1 ... 1 0 0]' has dtype incompatible with int32, please explicitly cast to a compatible dtype first.\n",
      "  df.update(df_temp_temp)\n",
      "/exp/uboone/app/users/jbateman/workdir/HPS_uboone_analysis/BDT_pkl_gen/create_pkls.py:255: FutureWarning: Setting an item of incompatible dtype is deprecated and will raise in a future error of pandas. Value '[0 0 0 ... 0 0 0]' has dtype incompatible with int32, please explicitly cast to a compatible dtype first.\n",
      "  df.update(df_temp_temp)\n",
      "/exp/uboone/app/users/jbateman/workdir/HPS_uboone_analysis/BDT_pkl_gen/create_pkls.py:255: FutureWarning: Setting an item of incompatible dtype is deprecated and will raise in a future error of pandas. Value '[12 12 12 ... 12 12 12]' has dtype incompatible with int32, please explicitly cast to a compatible dtype first.\n",
      "  df.update(df_temp_temp)\n",
      "/exp/uboone/app/users/jbateman/workdir/HPS_uboone_analysis/BDT_pkl_gen/create_pkls.py:255: FutureWarning: Setting an item of incompatible dtype is deprecated and will raise in a future error of pandas. Value '[5 5 4 ... 3 0 0]' has dtype incompatible with int32, please explicitly cast to a compatible dtype first.\n",
      "  df.update(df_temp_temp)\n",
      "/exp/uboone/app/users/jbateman/workdir/HPS_uboone_analysis/BDT_pkl_gen/create_pkls.py:255: FutureWarning: Setting an item of incompatible dtype is deprecated and will raise in a future error of pandas. Value '[2525  213 1665 ...  217  519   38]' has dtype incompatible with int32, please explicitly cast to a compatible dtype first.\n",
      "  df.update(df_temp_temp)\n",
      "/exp/uboone/app/users/jbateman/workdir/HPS_uboone_analysis/BDT_pkl_gen/create_pkls.py:255: FutureWarning: Setting an item of incompatible dtype is deprecated and will raise in a future error of pandas. Value '[1 1 1 ... 1 1 1]' has dtype incompatible with int32, please explicitly cast to a compatible dtype first.\n",
      "  df.update(df_temp_temp)\n"
     ]
    },
    {
     "name": "stdout",
     "output_type": "stream",
     "text": [
      "2580\n",
      "2581\n",
      "2579\n",
      "2579\n",
      "df\n",
      "5160\n",
      "df_temp_temp\n",
      "2\n",
      "2580\n",
      "2580\n",
      "2580\n",
      "2580\n"
     ]
    },
    {
     "name": "stderr",
     "output_type": "stream",
     "text": [
      "/exp/uboone/app/users/jbateman/workdir/HPS_uboone_analysis/BDT_pkl_gen/create_pkls.py:377: FutureWarning: Setting an item of incompatible dtype is deprecated and will raise an error in a future version of pandas. Value '[8.6]' has dtype incompatible with int64, please explicitly cast to a compatible dtype first.\n",
      "  df_new.loc[(df_new['theta_nu']>=2.14) & (df_new['nu_e_ls']>=0.2354) & (df_new['nu_e_ls']<=0.2356), ['KDAR_scale']] *= KDAR_factor\n"
     ]
    }
   ],
   "source": [
    "sample_pkl = f'AllVar_UnSelected_{run}_NuMI_{sample}_Weights_Updated_Flux.pkl'\n",
    "\n",
    "df_temp = pd.read_pickle(loc_BDT_input+sample_pkl) # Loading the main variables and weights from the pkl file\n",
    "\n",
    "df_temp_new = df_temp.copy()\n",
    "df_temp_1shr = preselection_1shr(df_temp_new, print_bool=True)\n",
    "print('final')\n",
    "print(len(df_temp_1shr['run']))\n",
    "df_temp_1shr = get_1shr_variable (df_temp_1shr.copy())\n",
    "df_temp_1shr = merge_true_theta_bkg(df_temp_1shr.copy(), 'Run3')\n",
    "df_temp_1shr = tag_bkg_category(df_temp_1shr.copy(), 'o') # o: overlay, d: dirt, e: ext\n",
    "\n",
    "df_temp_1shr.to_pickle(loc_BDT_input+f'AllVar_Selected_{run}_NuMI_{sample}_Weights_1shr_Updated_Flux.pkl')\n",
    "\n",
    "\n",
    "\n",
    "df_temp_new = df_temp.copy()\n",
    "df_temp_2shr = preselection_2shr(df_temp_new, print_bool=True)\n",
    "df_temp_2shr = leading_shr(df_temp_2shr.copy())\n",
    "df_temp_2shr = get_2shr_variable (df_temp_2shr.copy())\n",
    "df_temp_2shr = merge_true_theta_bkg(df_temp_2shr.copy(), 'Run3')\n",
    "df_temp_2shr = tag_bkg_category(df_temp_2shr.copy(), 'o') # o: overlay, d: dirt, e: ext\n",
    "df_temp_2shr.to_pickle(loc_BDT_input+f'AllVar_Selected_{run}_NuMI_{sample}_Weights_2shr_Updated_Flux.pkl')"
   ]
  },
  {
   "cell_type": "markdown",
   "metadata": {},
   "source": [
    "## Now we need to get the predictions from each BDT\n",
    "\n",
    "and assign is_trained = 0 for each point (I think both Nu overlay and signal are independent samples from the original training dataset). "
   ]
  },
  {
   "cell_type": "code",
   "execution_count": 84,
   "metadata": {},
   "outputs": [
    {
     "name": "stdout",
     "output_type": "stream",
     "text": [
      "File path: /exp/uboone/data/users/jbateman/workdir/HPS_uboone_analysis/NewFlux/BDT_input_pkl/\n",
      "Example file name: AllVar_Selected_Run3_NuMI_detsys_old_KDIF_100_MeV_1shr_Weights_Updated_Flux_pred.pkl\n"
     ]
    },
    {
     "name": "stderr",
     "output_type": "stream",
     "text": [
      "/nashome/j/jbateman/miniconda3/envs/HPS_ana/lib/python3.11/site-packages/xgboost/core.py:160: UserWarning: [08:16:27] WARNING: /workspace/src/common/error_msg.h:80: If you are loading a serialized model (like pickle in Python, RDS in R) or\n",
      "configuration generated by an older version of XGBoost, please export the model by calling\n",
      "`Booster.save_model` from that version first, then load it back in current version. See:\n",
      "\n",
      "    https://xgboost.readthedocs.io/en/stable/tutorials/saving_model.html\n",
      "\n",
      "for more details about differences between saving model and serializing.\n",
      "\n",
      "  warnings.warn(smsg, UserWarning)\n",
      "/nashome/j/jbateman/miniconda3/envs/HPS_ana/lib/python3.11/site-packages/xgboost/core.py:160: UserWarning: [08:16:27] WARNING: /workspace/src/learner.cc:873: Found JSON model saved before XGBoost 1.6, please save the model using current version again. The support for old JSON model will be discontinued in XGBoost 2.3.\n",
      "  warnings.warn(smsg, UserWarning)\n"
     ]
    },
    {
     "name": "stdout",
     "output_type": "stream",
     "text": [
      "Run3_100_MeV_KDIF_1shr\n",
      "6124\n",
      "Calculated predictions...\n",
      "Fixed column labelling...\n",
      "Saved pkl file...\n",
      "File name: AllVar_Selected_Run3_NuMI_detsys_old_KDIF_100_MeV_1shr_Weights_Updated_Flux_pred.pkl\n"
     ]
    },
    {
     "name": "stderr",
     "output_type": "stream",
     "text": [
      "/nashome/j/jbateman/miniconda3/envs/HPS_ana/lib/python3.11/site-packages/xgboost/core.py:160: UserWarning: [08:16:31] WARNING: /workspace/src/learner.cc:873: Found JSON model saved before XGBoost 1.6, please save the model using current version again. The support for old JSON model will be discontinued in XGBoost 2.3.\n",
      "  warnings.warn(smsg, UserWarning)\n"
     ]
    },
    {
     "name": "stdout",
     "output_type": "stream",
     "text": [
      "Run3_100_MeV_KDIF_2shr\n",
      "2580\n",
      "Calculated predictions...\n",
      "Fixed column labelling...\n",
      "Saved pkl file...\n",
      "File name: AllVar_Selected_Run3_NuMI_detsys_old_KDIF_100_MeV_2shr_Weights_Updated_Flux_pred.pkl\n",
      "\n"
     ]
    },
    {
     "name": "stderr",
     "output_type": "stream",
     "text": [
      "/nashome/j/jbateman/miniconda3/envs/HPS_ana/lib/python3.11/site-packages/xgboost/core.py:160: UserWarning: [08:16:32] WARNING: /workspace/src/learner.cc:873: Found JSON model saved before XGBoost 1.6, please save the model using current version again. The support for old JSON model will be discontinued in XGBoost 2.3.\n",
      "  warnings.warn(smsg, UserWarning)\n"
     ]
    },
    {
     "name": "stdout",
     "output_type": "stream",
     "text": [
      "Run3_125_MeV_KDIF_1shr\n",
      "6124\n",
      "Calculated predictions...\n",
      "Fixed column labelling...\n",
      "Saved pkl file...\n",
      "File name: AllVar_Selected_Run3_NuMI_detsys_old_KDIF_125_MeV_1shr_Weights_Updated_Flux_pred.pkl\n"
     ]
    },
    {
     "name": "stderr",
     "output_type": "stream",
     "text": [
      "/nashome/j/jbateman/miniconda3/envs/HPS_ana/lib/python3.11/site-packages/xgboost/core.py:160: UserWarning: [08:16:33] WARNING: /workspace/src/learner.cc:873: Found JSON model saved before XGBoost 1.6, please save the model using current version again. The support for old JSON model will be discontinued in XGBoost 2.3.\n",
      "  warnings.warn(smsg, UserWarning)\n"
     ]
    },
    {
     "name": "stdout",
     "output_type": "stream",
     "text": [
      "Run3_125_MeV_KDIF_2shr\n",
      "2580\n",
      "Calculated predictions...\n",
      "Fixed column labelling...\n",
      "Saved pkl file...\n",
      "File name: AllVar_Selected_Run3_NuMI_detsys_old_KDIF_125_MeV_2shr_Weights_Updated_Flux_pred.pkl\n",
      "\n"
     ]
    },
    {
     "name": "stderr",
     "output_type": "stream",
     "text": [
      "/nashome/j/jbateman/miniconda3/envs/HPS_ana/lib/python3.11/site-packages/xgboost/core.py:160: UserWarning: [08:16:34] WARNING: /workspace/src/learner.cc:873: Found JSON model saved before XGBoost 1.6, please save the model using current version again. The support for old JSON model will be discontinued in XGBoost 2.3.\n",
      "  warnings.warn(smsg, UserWarning)\n"
     ]
    },
    {
     "name": "stdout",
     "output_type": "stream",
     "text": [
      "Run3_130_MeV_KDIF_1shr\n",
      "6124\n",
      "Calculated predictions...\n",
      "Fixed column labelling...\n",
      "Saved pkl file...\n",
      "File name: AllVar_Selected_Run3_NuMI_detsys_old_KDIF_130_MeV_1shr_Weights_Updated_Flux_pred.pkl\n"
     ]
    },
    {
     "name": "stderr",
     "output_type": "stream",
     "text": [
      "/nashome/j/jbateman/miniconda3/envs/HPS_ana/lib/python3.11/site-packages/xgboost/core.py:160: UserWarning: [08:16:36] WARNING: /workspace/src/learner.cc:873: Found JSON model saved before XGBoost 1.6, please save the model using current version again. The support for old JSON model will be discontinued in XGBoost 2.3.\n",
      "  warnings.warn(smsg, UserWarning)\n"
     ]
    },
    {
     "name": "stdout",
     "output_type": "stream",
     "text": [
      "Run3_130_MeV_KDIF_2shr\n",
      "2580\n",
      "Calculated predictions...\n",
      "Fixed column labelling...\n",
      "Saved pkl file...\n",
      "File name: AllVar_Selected_Run3_NuMI_detsys_old_KDIF_130_MeV_2shr_Weights_Updated_Flux_pred.pkl\n",
      "\n"
     ]
    },
    {
     "name": "stderr",
     "output_type": "stream",
     "text": [
      "/nashome/j/jbateman/miniconda3/envs/HPS_ana/lib/python3.11/site-packages/xgboost/core.py:160: UserWarning: [08:16:37] WARNING: /workspace/src/learner.cc:873: Found JSON model saved before XGBoost 1.6, please save the model using current version again. The support for old JSON model will be discontinued in XGBoost 2.3.\n",
      "  warnings.warn(smsg, UserWarning)\n"
     ]
    },
    {
     "name": "stdout",
     "output_type": "stream",
     "text": [
      "Run3_135_MeV_KDIF_1shr\n",
      "6124\n",
      "Calculated predictions...\n",
      "Fixed column labelling...\n",
      "Saved pkl file...\n",
      "File name: AllVar_Selected_Run3_NuMI_detsys_old_KDIF_135_MeV_1shr_Weights_Updated_Flux_pred.pkl\n"
     ]
    },
    {
     "name": "stderr",
     "output_type": "stream",
     "text": [
      "/nashome/j/jbateman/miniconda3/envs/HPS_ana/lib/python3.11/site-packages/xgboost/core.py:160: UserWarning: [08:16:39] WARNING: /workspace/src/learner.cc:873: Found JSON model saved before XGBoost 1.6, please save the model using current version again. The support for old JSON model will be discontinued in XGBoost 2.3.\n",
      "  warnings.warn(smsg, UserWarning)\n"
     ]
    },
    {
     "name": "stdout",
     "output_type": "stream",
     "text": [
      "Run3_135_MeV_KDIF_2shr\n",
      "2580\n",
      "Calculated predictions...\n",
      "Fixed column labelling...\n",
      "Saved pkl file...\n",
      "File name: AllVar_Selected_Run3_NuMI_detsys_old_KDIF_135_MeV_2shr_Weights_Updated_Flux_pred.pkl\n",
      "\n"
     ]
    },
    {
     "name": "stderr",
     "output_type": "stream",
     "text": [
      "/nashome/j/jbateman/miniconda3/envs/HPS_ana/lib/python3.11/site-packages/xgboost/core.py:160: UserWarning: [08:16:40] WARNING: /workspace/src/learner.cc:873: Found JSON model saved before XGBoost 1.6, please save the model using current version again. The support for old JSON model will be discontinued in XGBoost 2.3.\n",
      "  warnings.warn(smsg, UserWarning)\n"
     ]
    },
    {
     "name": "stdout",
     "output_type": "stream",
     "text": [
      "Run3_140_MeV_KDIF_1shr\n",
      "6124\n",
      "Calculated predictions...\n",
      "Fixed column labelling...\n",
      "Saved pkl file...\n",
      "File name: AllVar_Selected_Run3_NuMI_detsys_old_KDIF_140_MeV_1shr_Weights_Updated_Flux_pred.pkl\n"
     ]
    },
    {
     "name": "stderr",
     "output_type": "stream",
     "text": [
      "/nashome/j/jbateman/miniconda3/envs/HPS_ana/lib/python3.11/site-packages/xgboost/core.py:160: UserWarning: [08:16:41] WARNING: /workspace/src/learner.cc:873: Found JSON model saved before XGBoost 1.6, please save the model using current version again. The support for old JSON model will be discontinued in XGBoost 2.3.\n",
      "  warnings.warn(smsg, UserWarning)\n"
     ]
    },
    {
     "name": "stdout",
     "output_type": "stream",
     "text": [
      "Run3_140_MeV_KDIF_2shr\n",
      "2580\n",
      "Calculated predictions...\n",
      "Fixed column labelling...\n",
      "Saved pkl file...\n",
      "File name: AllVar_Selected_Run3_NuMI_detsys_old_KDIF_140_MeV_2shr_Weights_Updated_Flux_pred.pkl\n",
      "\n"
     ]
    },
    {
     "name": "stderr",
     "output_type": "stream",
     "text": [
      "/nashome/j/jbateman/miniconda3/envs/HPS_ana/lib/python3.11/site-packages/xgboost/core.py:160: UserWarning: [08:16:42] WARNING: /workspace/src/learner.cc:873: Found JSON model saved before XGBoost 1.6, please save the model using current version again. The support for old JSON model will be discontinued in XGBoost 2.3.\n",
      "  warnings.warn(smsg, UserWarning)\n"
     ]
    },
    {
     "name": "stdout",
     "output_type": "stream",
     "text": [
      "Run3_145_MeV_KDIF_1shr\n",
      "6124\n",
      "Calculated predictions...\n",
      "Fixed column labelling...\n",
      "Saved pkl file...\n",
      "File name: AllVar_Selected_Run3_NuMI_detsys_old_KDIF_145_MeV_1shr_Weights_Updated_Flux_pred.pkl\n"
     ]
    },
    {
     "name": "stderr",
     "output_type": "stream",
     "text": [
      "/nashome/j/jbateman/miniconda3/envs/HPS_ana/lib/python3.11/site-packages/xgboost/core.py:160: UserWarning: [08:16:47] WARNING: /workspace/src/learner.cc:873: Found JSON model saved before XGBoost 1.6, please save the model using current version again. The support for old JSON model will be discontinued in XGBoost 2.3.\n",
      "  warnings.warn(smsg, UserWarning)\n"
     ]
    },
    {
     "name": "stdout",
     "output_type": "stream",
     "text": [
      "Run3_145_MeV_KDIF_2shr\n",
      "2580\n",
      "Calculated predictions...\n",
      "Fixed column labelling...\n",
      "Saved pkl file...\n",
      "File name: AllVar_Selected_Run3_NuMI_detsys_old_KDIF_145_MeV_2shr_Weights_Updated_Flux_pred.pkl\n",
      "\n"
     ]
    },
    {
     "name": "stderr",
     "output_type": "stream",
     "text": [
      "/nashome/j/jbateman/miniconda3/envs/HPS_ana/lib/python3.11/site-packages/xgboost/core.py:160: UserWarning: [08:16:48] WARNING: /workspace/src/learner.cc:873: Found JSON model saved before XGBoost 1.6, please save the model using current version again. The support for old JSON model will be discontinued in XGBoost 2.3.\n",
      "  warnings.warn(smsg, UserWarning)\n"
     ]
    },
    {
     "name": "stdout",
     "output_type": "stream",
     "text": [
      "Run3_150_MeV_KDIF_1shr\n",
      "6124\n",
      "Calculated predictions...\n",
      "Fixed column labelling...\n",
      "Saved pkl file...\n",
      "File name: AllVar_Selected_Run3_NuMI_detsys_old_KDIF_150_MeV_1shr_Weights_Updated_Flux_pred.pkl\n"
     ]
    },
    {
     "name": "stderr",
     "output_type": "stream",
     "text": [
      "/nashome/j/jbateman/miniconda3/envs/HPS_ana/lib/python3.11/site-packages/xgboost/core.py:160: UserWarning: [08:16:49] WARNING: /workspace/src/learner.cc:873: Found JSON model saved before XGBoost 1.6, please save the model using current version again. The support for old JSON model will be discontinued in XGBoost 2.3.\n",
      "  warnings.warn(smsg, UserWarning)\n"
     ]
    },
    {
     "name": "stdout",
     "output_type": "stream",
     "text": [
      "Run3_150_MeV_KDIF_2shr\n",
      "2580\n",
      "Calculated predictions...\n",
      "Fixed column labelling...\n",
      "Saved pkl file...\n",
      "File name: AllVar_Selected_Run3_NuMI_detsys_old_KDIF_150_MeV_2shr_Weights_Updated_Flux_pred.pkl\n",
      "\n"
     ]
    },
    {
     "name": "stderr",
     "output_type": "stream",
     "text": [
      "/nashome/j/jbateman/miniconda3/envs/HPS_ana/lib/python3.11/site-packages/xgboost/core.py:160: UserWarning: [08:16:51] WARNING: /workspace/src/learner.cc:873: Found JSON model saved before XGBoost 1.6, please save the model using current version again. The support for old JSON model will be discontinued in XGBoost 2.3.\n",
      "  warnings.warn(smsg, UserWarning)\n"
     ]
    },
    {
     "name": "stdout",
     "output_type": "stream",
     "text": [
      "Run3_200_MeV_KDIF_1shr\n",
      "6124\n",
      "Calculated predictions...\n",
      "Fixed column labelling...\n",
      "Saved pkl file...\n",
      "File name: AllVar_Selected_Run3_NuMI_detsys_old_KDIF_200_MeV_1shr_Weights_Updated_Flux_pred.pkl\n"
     ]
    },
    {
     "name": "stderr",
     "output_type": "stream",
     "text": [
      "/nashome/j/jbateman/miniconda3/envs/HPS_ana/lib/python3.11/site-packages/xgboost/core.py:160: UserWarning: [08:16:52] WARNING: /workspace/src/learner.cc:873: Found JSON model saved before XGBoost 1.6, please save the model using current version again. The support for old JSON model will be discontinued in XGBoost 2.3.\n",
      "  warnings.warn(smsg, UserWarning)\n"
     ]
    },
    {
     "name": "stdout",
     "output_type": "stream",
     "text": [
      "Run3_200_MeV_KDIF_2shr\n",
      "2580\n",
      "Calculated predictions...\n",
      "Fixed column labelling...\n",
      "Saved pkl file...\n",
      "File name: AllVar_Selected_Run3_NuMI_detsys_old_KDIF_200_MeV_2shr_Weights_Updated_Flux_pred.pkl\n",
      "\n"
     ]
    },
    {
     "name": "stderr",
     "output_type": "stream",
     "text": [
      "/nashome/j/jbateman/miniconda3/envs/HPS_ana/lib/python3.11/site-packages/xgboost/core.py:160: UserWarning: [08:16:53] WARNING: /workspace/src/learner.cc:873: Found JSON model saved before XGBoost 1.6, please save the model using current version again. The support for old JSON model will be discontinued in XGBoost 2.3.\n",
      "  warnings.warn(smsg, UserWarning)\n"
     ]
    },
    {
     "name": "stdout",
     "output_type": "stream",
     "text": [
      "Run3_100_MeV_KDAR_1shr\n",
      "6124\n",
      "Calculated predictions...\n",
      "Fixed column labelling...\n",
      "Saved pkl file...\n",
      "File name: AllVar_Selected_Run3_NuMI_detsys_old_KDAR_100_MeV_1shr_Weights_Updated_Flux_pred.pkl\n"
     ]
    },
    {
     "name": "stderr",
     "output_type": "stream",
     "text": [
      "/nashome/j/jbateman/miniconda3/envs/HPS_ana/lib/python3.11/site-packages/xgboost/core.py:160: UserWarning: [08:16:54] WARNING: /workspace/src/learner.cc:873: Found JSON model saved before XGBoost 1.6, please save the model using current version again. The support for old JSON model will be discontinued in XGBoost 2.3.\n",
      "  warnings.warn(smsg, UserWarning)\n"
     ]
    },
    {
     "name": "stdout",
     "output_type": "stream",
     "text": [
      "Run3_100_MeV_KDAR_2shr\n",
      "2580\n",
      "Calculated predictions...\n",
      "Fixed column labelling...\n",
      "Saved pkl file...\n",
      "File name: AllVar_Selected_Run3_NuMI_detsys_old_KDAR_100_MeV_2shr_Weights_Updated_Flux_pred.pkl\n",
      "\n"
     ]
    },
    {
     "name": "stderr",
     "output_type": "stream",
     "text": [
      "/nashome/j/jbateman/miniconda3/envs/HPS_ana/lib/python3.11/site-packages/xgboost/core.py:160: UserWarning: [08:16:55] WARNING: /workspace/src/learner.cc:873: Found JSON model saved before XGBoost 1.6, please save the model using current version again. The support for old JSON model will be discontinued in XGBoost 2.3.\n",
      "  warnings.warn(smsg, UserWarning)\n"
     ]
    },
    {
     "name": "stdout",
     "output_type": "stream",
     "text": [
      "Run3_125_MeV_KDAR_1shr\n",
      "6124\n",
      "Calculated predictions...\n",
      "Fixed column labelling...\n",
      "Saved pkl file...\n",
      "File name: AllVar_Selected_Run3_NuMI_detsys_old_KDAR_125_MeV_1shr_Weights_Updated_Flux_pred.pkl\n"
     ]
    },
    {
     "name": "stderr",
     "output_type": "stream",
     "text": [
      "/nashome/j/jbateman/miniconda3/envs/HPS_ana/lib/python3.11/site-packages/xgboost/core.py:160: UserWarning: [08:16:56] WARNING: /workspace/src/learner.cc:873: Found JSON model saved before XGBoost 1.6, please save the model using current version again. The support for old JSON model will be discontinued in XGBoost 2.3.\n",
      "  warnings.warn(smsg, UserWarning)\n"
     ]
    },
    {
     "name": "stdout",
     "output_type": "stream",
     "text": [
      "Run3_125_MeV_KDAR_2shr\n",
      "2580\n",
      "Calculated predictions...\n",
      "Fixed column labelling...\n",
      "Saved pkl file...\n",
      "File name: AllVar_Selected_Run3_NuMI_detsys_old_KDAR_125_MeV_2shr_Weights_Updated_Flux_pred.pkl\n",
      "\n"
     ]
    },
    {
     "name": "stderr",
     "output_type": "stream",
     "text": [
      "/nashome/j/jbateman/miniconda3/envs/HPS_ana/lib/python3.11/site-packages/xgboost/core.py:160: UserWarning: [08:16:57] WARNING: /workspace/src/learner.cc:873: Found JSON model saved before XGBoost 1.6, please save the model using current version again. The support for old JSON model will be discontinued in XGBoost 2.3.\n",
      "  warnings.warn(smsg, UserWarning)\n"
     ]
    },
    {
     "name": "stdout",
     "output_type": "stream",
     "text": [
      "Run3_130_MeV_KDAR_1shr\n",
      "6124\n",
      "Calculated predictions...\n",
      "Fixed column labelling...\n",
      "Saved pkl file...\n",
      "File name: AllVar_Selected_Run3_NuMI_detsys_old_KDAR_130_MeV_1shr_Weights_Updated_Flux_pred.pkl\n"
     ]
    },
    {
     "name": "stderr",
     "output_type": "stream",
     "text": [
      "/nashome/j/jbateman/miniconda3/envs/HPS_ana/lib/python3.11/site-packages/xgboost/core.py:160: UserWarning: [08:16:59] WARNING: /workspace/src/learner.cc:873: Found JSON model saved before XGBoost 1.6, please save the model using current version again. The support for old JSON model will be discontinued in XGBoost 2.3.\n",
      "  warnings.warn(smsg, UserWarning)\n"
     ]
    },
    {
     "name": "stdout",
     "output_type": "stream",
     "text": [
      "Run3_130_MeV_KDAR_2shr\n",
      "2580\n",
      "Calculated predictions...\n",
      "Fixed column labelling...\n",
      "Saved pkl file...\n",
      "File name: AllVar_Selected_Run3_NuMI_detsys_old_KDAR_130_MeV_2shr_Weights_Updated_Flux_pred.pkl\n",
      "\n"
     ]
    },
    {
     "name": "stderr",
     "output_type": "stream",
     "text": [
      "/nashome/j/jbateman/miniconda3/envs/HPS_ana/lib/python3.11/site-packages/xgboost/core.py:160: UserWarning: [08:16:59] WARNING: /workspace/src/learner.cc:873: Found JSON model saved before XGBoost 1.6, please save the model using current version again. The support for old JSON model will be discontinued in XGBoost 2.3.\n",
      "  warnings.warn(smsg, UserWarning)\n"
     ]
    },
    {
     "name": "stdout",
     "output_type": "stream",
     "text": [
      "Run3_135_MeV_KDAR_1shr\n",
      "6124\n",
      "Calculated predictions...\n",
      "Fixed column labelling...\n",
      "Saved pkl file...\n",
      "File name: AllVar_Selected_Run3_NuMI_detsys_old_KDAR_135_MeV_1shr_Weights_Updated_Flux_pred.pkl\n"
     ]
    },
    {
     "name": "stderr",
     "output_type": "stream",
     "text": [
      "/nashome/j/jbateman/miniconda3/envs/HPS_ana/lib/python3.11/site-packages/xgboost/core.py:160: UserWarning: [08:17:00] WARNING: /workspace/src/learner.cc:873: Found JSON model saved before XGBoost 1.6, please save the model using current version again. The support for old JSON model will be discontinued in XGBoost 2.3.\n",
      "  warnings.warn(smsg, UserWarning)\n"
     ]
    },
    {
     "name": "stdout",
     "output_type": "stream",
     "text": [
      "Run3_135_MeV_KDAR_2shr\n",
      "2580\n",
      "Calculated predictions...\n",
      "Fixed column labelling...\n",
      "Saved pkl file...\n",
      "File name: AllVar_Selected_Run3_NuMI_detsys_old_KDAR_135_MeV_2shr_Weights_Updated_Flux_pred.pkl\n",
      "\n"
     ]
    },
    {
     "name": "stderr",
     "output_type": "stream",
     "text": [
      "/nashome/j/jbateman/miniconda3/envs/HPS_ana/lib/python3.11/site-packages/xgboost/core.py:160: UserWarning: [08:17:01] WARNING: /workspace/src/learner.cc:873: Found JSON model saved before XGBoost 1.6, please save the model using current version again. The support for old JSON model will be discontinued in XGBoost 2.3.\n",
      "  warnings.warn(smsg, UserWarning)\n"
     ]
    },
    {
     "name": "stdout",
     "output_type": "stream",
     "text": [
      "Run3_140_MeV_KDAR_1shr\n",
      "6124\n",
      "Calculated predictions...\n",
      "Fixed column labelling...\n",
      "Saved pkl file...\n",
      "File name: AllVar_Selected_Run3_NuMI_detsys_old_KDAR_140_MeV_1shr_Weights_Updated_Flux_pred.pkl\n"
     ]
    },
    {
     "name": "stderr",
     "output_type": "stream",
     "text": [
      "/nashome/j/jbateman/miniconda3/envs/HPS_ana/lib/python3.11/site-packages/xgboost/core.py:160: UserWarning: [08:17:03] WARNING: /workspace/src/learner.cc:873: Found JSON model saved before XGBoost 1.6, please save the model using current version again. The support for old JSON model will be discontinued in XGBoost 2.3.\n",
      "  warnings.warn(smsg, UserWarning)\n"
     ]
    },
    {
     "name": "stdout",
     "output_type": "stream",
     "text": [
      "Run3_140_MeV_KDAR_2shr\n",
      "2580\n",
      "Calculated predictions...\n",
      "Fixed column labelling...\n",
      "Saved pkl file...\n",
      "File name: AllVar_Selected_Run3_NuMI_detsys_old_KDAR_140_MeV_2shr_Weights_Updated_Flux_pred.pkl\n",
      "\n"
     ]
    },
    {
     "name": "stderr",
     "output_type": "stream",
     "text": [
      "/nashome/j/jbateman/miniconda3/envs/HPS_ana/lib/python3.11/site-packages/xgboost/core.py:160: UserWarning: [08:17:03] WARNING: /workspace/src/learner.cc:873: Found JSON model saved before XGBoost 1.6, please save the model using current version again. The support for old JSON model will be discontinued in XGBoost 2.3.\n",
      "  warnings.warn(smsg, UserWarning)\n"
     ]
    },
    {
     "name": "stdout",
     "output_type": "stream",
     "text": [
      "Run3_145_MeV_KDAR_1shr\n",
      "6124\n",
      "Calculated predictions...\n",
      "Fixed column labelling...\n",
      "Saved pkl file...\n",
      "File name: AllVar_Selected_Run3_NuMI_detsys_old_KDAR_145_MeV_1shr_Weights_Updated_Flux_pred.pkl\n"
     ]
    },
    {
     "name": "stderr",
     "output_type": "stream",
     "text": [
      "/nashome/j/jbateman/miniconda3/envs/HPS_ana/lib/python3.11/site-packages/xgboost/core.py:160: UserWarning: [08:17:04] WARNING: /workspace/src/learner.cc:873: Found JSON model saved before XGBoost 1.6, please save the model using current version again. The support for old JSON model will be discontinued in XGBoost 2.3.\n",
      "  warnings.warn(smsg, UserWarning)\n"
     ]
    },
    {
     "name": "stdout",
     "output_type": "stream",
     "text": [
      "Run3_145_MeV_KDAR_2shr\n",
      "2580\n",
      "Calculated predictions...\n",
      "Fixed column labelling...\n",
      "Saved pkl file...\n",
      "File name: AllVar_Selected_Run3_NuMI_detsys_old_KDAR_145_MeV_2shr_Weights_Updated_Flux_pred.pkl\n",
      "\n"
     ]
    },
    {
     "name": "stderr",
     "output_type": "stream",
     "text": [
      "/nashome/j/jbateman/miniconda3/envs/HPS_ana/lib/python3.11/site-packages/xgboost/core.py:160: UserWarning: [08:17:05] WARNING: /workspace/src/learner.cc:873: Found JSON model saved before XGBoost 1.6, please save the model using current version again. The support for old JSON model will be discontinued in XGBoost 2.3.\n",
      "  warnings.warn(smsg, UserWarning)\n"
     ]
    },
    {
     "name": "stdout",
     "output_type": "stream",
     "text": [
      "Run3_150_MeV_KDAR_1shr\n",
      "6124\n",
      "Calculated predictions...\n",
      "Fixed column labelling...\n",
      "Saved pkl file...\n",
      "File name: AllVar_Selected_Run3_NuMI_detsys_old_KDAR_150_MeV_1shr_Weights_Updated_Flux_pred.pkl\n"
     ]
    },
    {
     "name": "stderr",
     "output_type": "stream",
     "text": [
      "/nashome/j/jbateman/miniconda3/envs/HPS_ana/lib/python3.11/site-packages/xgboost/core.py:160: UserWarning: [08:17:06] WARNING: /workspace/src/learner.cc:873: Found JSON model saved before XGBoost 1.6, please save the model using current version again. The support for old JSON model will be discontinued in XGBoost 2.3.\n",
      "  warnings.warn(smsg, UserWarning)\n"
     ]
    },
    {
     "name": "stdout",
     "output_type": "stream",
     "text": [
      "Run3_150_MeV_KDAR_2shr\n",
      "2580\n",
      "Calculated predictions...\n",
      "Fixed column labelling...\n",
      "Saved pkl file...\n",
      "File name: AllVar_Selected_Run3_NuMI_detsys_old_KDAR_150_MeV_2shr_Weights_Updated_Flux_pred.pkl\n",
      "\n"
     ]
    },
    {
     "name": "stderr",
     "output_type": "stream",
     "text": [
      "/nashome/j/jbateman/miniconda3/envs/HPS_ana/lib/python3.11/site-packages/xgboost/core.py:160: UserWarning: [08:17:08] WARNING: /workspace/src/learner.cc:873: Found JSON model saved before XGBoost 1.6, please save the model using current version again. The support for old JSON model will be discontinued in XGBoost 2.3.\n",
      "  warnings.warn(smsg, UserWarning)\n"
     ]
    },
    {
     "name": "stdout",
     "output_type": "stream",
     "text": [
      "Run3_200_MeV_KDAR_1shr\n",
      "6124\n",
      "Calculated predictions...\n",
      "Fixed column labelling...\n",
      "Saved pkl file...\n",
      "File name: AllVar_Selected_Run3_NuMI_detsys_old_KDAR_200_MeV_1shr_Weights_Updated_Flux_pred.pkl\n"
     ]
    },
    {
     "name": "stderr",
     "output_type": "stream",
     "text": [
      "/nashome/j/jbateman/miniconda3/envs/HPS_ana/lib/python3.11/site-packages/xgboost/core.py:160: UserWarning: [08:17:09] WARNING: /workspace/src/learner.cc:873: Found JSON model saved before XGBoost 1.6, please save the model using current version again. The support for old JSON model will be discontinued in XGBoost 2.3.\n",
      "  warnings.warn(smsg, UserWarning)\n"
     ]
    },
    {
     "name": "stdout",
     "output_type": "stream",
     "text": [
      "Run3_200_MeV_KDAR_2shr\n",
      "2580\n",
      "Calculated predictions...\n",
      "Fixed column labelling...\n",
      "Saved pkl file...\n",
      "File name: AllVar_Selected_Run3_NuMI_detsys_old_KDAR_200_MeV_2shr_Weights_Updated_Flux_pred.pkl\n",
      "\n"
     ]
    }
   ],
   "source": [
    "BDT_path = '/exp/uboone/data/users/jbateman/workdir/aadi/jupyter_koto/Booster2sens/'\n",
    "\n",
    "# /Run1_150_MeV_NEW/BDT_models/BDT_Model_Top_14_features_Run1_150_MeVKDIF_1shr_Final_Main_BDT'\n",
    "# AllVar_Selected_Run3_NuMI_Overlay_1shr_Updated_Flux\n",
    "runs = ['Run3']\n",
    "mass_points = ['100_MeV', '125_MeV', '130_MeV', '135_MeV','140_MeV', '145_MeV', '150_MeV', '200_MeV']\n",
    "kaons = ['KDIF', 'KDAR']\n",
    "shrs = ['1shr','2shr']\n",
    "\n",
    "dict_df = {}\n",
    "print(f'File path: {loc_BDT_input}')\n",
    "\n",
    "k = kaons[0]\n",
    "mass = mass_points[0]\n",
    "shr = shrs[0]\n",
    "print(f'Example file name: AllVar_Selected_{run}_NuMI_{sample}_{k}_{mass}_{shr}_Weights_Updated_Flux_pred.pkl')\n",
    "\n",
    "create_final_overlay_pkls = True\n",
    "if create_final_overlay_pkls:\n",
    "    for run in runs:    \n",
    "        for k in kaons:\n",
    "            for mass in mass_points:\n",
    "                for shr in shrs:\n",
    "                    df_temp = pd.read_pickle(loc_BDT_input+f'AllVar_Selected_{run}_NuMI_{sample}_Weights_{shr}_Updated_Flux.pkl')\n",
    "\n",
    "                    BDT_name = f\"/{run}_{mass}_NEW/BDT_models/BDT_Model_Top_14_features_{run}_{mass}{k}_{shr}_Final_Main_BDT\"\n",
    "                    booster = joblib.load(BDT_path + BDT_name)\n",
    "                    print(f\"{run}_{mass}_{k}_{shr}\")\n",
    "                    print(len(df_temp['run_ls']))\n",
    "                    cols_for_booster = booster.feature_names\n",
    "                    \n",
    "                    untrnd_df = df_temp[cols_for_booster].copy()\n",
    "                    feature_names = untrnd_df.columns.to_list()\n",
    "                    untrnd_final = xgboost.DMatrix(data=untrnd_df[feature_names],missing=-999.0,feature_names=feature_names)\n",
    "                    \n",
    "                    pred = booster.predict(untrnd_final)\n",
    "                    print('Calculated predictions...')\n",
    "\n",
    "                    df_temp = df_temp.copy()\n",
    "                    df_temp['pred'] = pred\n",
    "                    \n",
    "                    cols_to_use  = ['weightsPPFX_ls', 'weightsGenie_ls', 'weightsReint_ls']\n",
    "                    if shr == '2shr': \n",
    "                        cols_to_drop = ['weightsPPFX_sls', 'weightsGenie_sls', 'weightsReint_sls']\n",
    "                        df_temp = df_temp.drop(cols_to_drop, axis=1)\n",
    "                    \n",
    "                    df_temp = df_temp.rename(columns={'weightsPPFX_ls': 'weightsPPFX',\n",
    "                                    'weightsGenie_ls': 'weightsGenie',\n",
    "                                    'weightsReint_ls': 'weightsReint',\n",
    "                                    # Renaming these params for parity with old pkl files\n",
    "                                    'mc_px_ls': 'mc_primary_px_ls',\n",
    "                                    'mc_py_ls': 'mc_primary_py_ls',\n",
    "                                    'mc_pz_ls': 'mc_primary_pz_ls',\n",
    "                                    'mc_px_sls': 'mc_primary_px_sls',\n",
    "                                    'mc_py_sls': 'mc_primary_py_sls',\n",
    "                                    'mc_pz_sls': 'mc_primary_pz_sls',\n",
    "                                    'mc_pdg_ls': 'mc_primary_pdg_ls',\n",
    "                                    'mc_pdg_sls': 'mc_primary_pdg_sls'\n",
    "                                    })\n",
    "                    \n",
    "                    df_temp['is_trained'] = 0\n",
    "                    df_temp['run'] = df_temp['run_ls']\n",
    "                    df_temp['sub'] = df_temp['sub_ls']\n",
    "                    df_temp['evt'] = df_temp['evt_ls']\n",
    "                    df_temp['nslice'] = df_temp['nslice_ls']\n",
    "                    print('Fixed column labelling...')\n",
    "                    # Calculating these parameters early, to save so much time on importing these pkls later\n",
    "                    if sample == 'Overlay':\n",
    "                        df_temp['thsnd_weight_genie'] = (['yes' if all(a == 1000 for a in i) else 'no' for i in df_temp['weightsGenie']])\n",
    "                        df_temp['thsnd_weight_ppfx'] = (['yes' if all(a == 1000 for a in i) else 'no' for i in df_temp['weightsPPFX']])\n",
    "                        df_temp['thsnd_weight_reint'] = (['yes' if all(a == 1000 for a in i) else 'no' for i in df_temp['weightsReint']])\n",
    "                        \n",
    "                        df_temp['inf_weight_genie'] = (['yes' if any(a>65534 for a in i) else 'no' for i in df_temp['weightsGenie']])\n",
    "                        df_temp['inf_weight_ppfx'] = (['yes' if any(a>65534 for a in i) else 'no' for i in df_temp['weightsPPFX']])\n",
    "                        df_temp['inf_weight_reint'] = (['yes' if any(a>65534 for a in i) else 'no' for i in df_temp['weightsReint']])\n",
    "\n",
    "                        df_temp['ones_weight_genie'] = (['yes' if all(a == 1 for a in i) else 'no' for i in df_temp['weightsGenie']])\n",
    "                        df_temp['ones_weight_ppfx'] = (['yes' if all(a == 1 for a in i) else 'no' for i in df_temp['weightsPPFX']])\n",
    "                        df_temp['ones_weight_reint'] = (['yes' if all(a == 1 for a in i) else 'no' for i in df_temp['weightsReint']])\n",
    "                        \n",
    "                        df_temp['zero_weight_genie'] = (['yes' if all(a == 0 for a in i) else 'no' for i in df_temp['weightsGenie']])\n",
    "                        df_temp['zero_weight_ppfx'] = (['yes' if all(a == 0 for a in i) else 'no' for i in df_temp['weightsPPFX']])\n",
    "                        df_temp['zero_weight_reint'] = (['yes' if all(a == 0 for a in i) else 'no' for i in df_temp['weightsReint']])\n",
    "                        print('Calculated PPFX, Genie, Reint flags...')\n",
    "                    \n",
    "                    df_temp.to_pickle(loc_BDT_input+f'AllVar_Selected_{run}_NuMI_{sample}_{k}_{mass}_{shr}_Weights_Updated_Flux_pred.pkl')\n",
    "                    print('Saved pkl file...')\n",
    "                    print(f'File name: AllVar_Selected_{run}_NuMI_{sample}_{k}_{mass}_{shr}_Weights_Updated_Flux_pred.pkl')\n",
    "                    dict_df[f\"{run}_{mass}_{k}_{shr}\"] = df_temp\n",
    "                print()\n",
    "\n"
   ]
  },
  {
   "cell_type": "markdown",
   "metadata": {},
   "source": [
    "## Correctly processing universes\n",
    "\n",
    "Note that 'fix_universes' function is incorporated into Loading_pkls_test.ipynb\n",
    "\n",
    "As the genie, PPFX and reint weights are incorporated, matching event, I think the weights are working.\n",
    "Detsys samples will need to be generated though (I think - look into this!)!"
   ]
  },
  {
   "cell_type": "markdown",
   "metadata": {},
   "source": [
    "## Creating the final BDT score pkls\n",
    " \n",
    "Firstly, by finding what keys we are missing!\n",
    "\n",
    "Now we can merge these into the final pkls to input into our analysis code.\n",
    "Aditya's 3_Genie_background.ipynb appears to be merging the EXT, dirt and overlay into a single file, but that is not what is used in the final analysis."
   ]
  },
  {
   "cell_type": "code",
   "execution_count": 8,
   "metadata": {},
   "outputs": [],
   "source": [
    "run_test = 'Run3'\n",
    "sample_test = 'Overlay'\n",
    "k_test = 'KDAR'\n",
    "mass_test = '100'\n",
    "shr_test = '1shr'\n",
    "\n",
    "loc_old_pkls = '/exp/uboone/data/users/jbateman/workdir/HPS_uboone_analysis/BDT_inputs_pkl/'\n",
    "filename_test = f\"AllVar_Selected_{run_test}_NuMI_{sample_test}_{k_test}_{mass_test}_{shr_test}_PPFX_pred_NEW\"\n",
    "old_df = pd.read_pickle(loc_old_pkls+f\"{filename_test}.pkl\")\n",
    "keys_old = old_df.keys().to_list()\n",
    "\n",
    "\n",
    "\n",
    "\n",
    "new_df = pd.read_pickle(loc_BDT_input+f'AllVar_Selected_{run_test}_NuMI_{sample_test}_{k_test}_{mass_test}_MeV_{shr_test}_Weights_Updated_Flux_pred.pkl')\n",
    "keys_new = new_df.keys().to_list()\n",
    "\n",
    "missing_keys = list(set(keys_old) - set(keys_new))"
   ]
  },
  {
   "cell_type": "code",
   "execution_count": 9,
   "metadata": {},
   "outputs": [],
   "source": [
    "missing_from_old = []\n",
    "missing_from_new = []\n",
    "\n",
    "for key in missing_keys:\n",
    "\n",
    "    if key in keys_old:\n",
    "        missing_from_new.append(key)\n",
    "    elif key in keys_new:\n",
    "        missing_from_old.append(key)\n",
    "    else:\n",
    "        print(f\"something strange with key: {key}\")"
   ]
  },
  {
   "cell_type": "code",
   "execution_count": 13,
   "metadata": {},
   "outputs": [
    {
     "name": "stdout",
     "output_type": "stream",
     "text": [
      "Missing from new \n",
      "\n",
      "['temp_ID', 'ppfx_cv', 'is_good']\n",
      "Missing from old \n",
      "\n",
      "[]\n",
      "Total missing: 3\n"
     ]
    }
   ],
   "source": [
    "print('Missing from new \\n')\n",
    "print(missing_from_new)\n",
    "print('Missing from old \\n')\n",
    "print(missing_from_old)\n",
    "\n",
    "print(f'Total missing: {len(missing_keys)}')"
   ]
  },
  {
   "cell_type": "markdown",
   "metadata": {},
   "source": [
    "## Testing whether this pkl imports correctly\n",
    "by using a cut-down version of the New_loader function"
   ]
  },
  {
   "cell_type": "code",
   "execution_count": 14,
   "metadata": {},
   "outputs": [
    {
     "name": "stdout",
     "output_type": "stream",
     "text": [
      "SUCCESSFULLY LOADED THE PICKLE FILES ('Run3', '150', '1shr', 'KDIF')\n",
      "SUCCESSFULLY LOADED THE PICKLE FILES ('Run3', '150', '1shr', 'KDIF')\n"
     ]
    }
   ],
   "source": [
    "run_test = 'Run3'\n",
    "sample_test = 'Overlay'\n",
    "k_test = 'KDIF'\n",
    "mass_test = '150'\n",
    "shr_test = '1shr'\n",
    "\n",
    "df_ovl = New_loader(run_test, mass_test, shr_test, k_test)\n",
    "df_old = New_loader_OLD(run_test, mass_test, shr_test, k_test)"
   ]
  },
  {
   "cell_type": "code",
   "execution_count": 56,
   "metadata": {},
   "outputs": [
    {
     "data": {
      "image/png": "[encoded data removed]",
      "text/plain": [
       "<Figure size 800x800 with 2 Axes>"
      ]
     },
     "metadata": {},
     "output_type": "display_data"
    }
   ],
   "source": [
    "feature = 'shr_pz_v_ls'\n",
    " \n",
    "\n",
    "bins = np.linspace(-1,1,20)\n",
    "fig,ax = plt.subplots(nrows=2, ncols=1, sharex=True, gridspec_kw={'height_ratios': [3, 1]}, figsize=(8,8),dpi=100)\n",
    "plt.sca(ax[0])\n",
    "\n",
    "weight_Overlay = df_ovl['scale_factor_ls']*df_ovl['ppfx_cv_ls']\n",
    "plt.hist(df_ovl[feature], weights=weight_Overlay, bins = bins, alpha = 0.5, label='New flux',density=False)\n",
    "\n",
    "weight_Overlay_old = df_old['scale_factor_ls']*df_old['ppfx_cv_ls']\n",
    "plt.hist(df_old[feature], weights=weight_Overlay_old, bins=bins, alpha=0.5, label='Old flux',density=False)\n",
    "plt.xlabel(feature)\n",
    "plt.ylabel('Events')\n",
    "plt.legend()\n",
    "plt.ylim(0,1650)\n",
    "# plt.yscale('log')\n",
    "\n",
    "hist_new, bins = np.histogram(df_ovl[feature], weights=weight_Overlay, bins = bins,density=False)\n",
    "hist_old, bins = np.histogram(df_old[feature], weights=weight_Overlay_old, bins=bins, density=False)\n",
    "hist_ratio = hist_new/hist_old\n",
    "\n",
    "mean_ratio = np.mean(hist_ratio)\n",
    "std_ratio = np.std(hist_ratio)\n",
    "\n",
    "bin_centres = (bins[1:] - bins[:-1])/2 + (bins[:-1])\n",
    "\n",
    "hist_step, bins_step = format_for_step(hist_ratio, bins)\n",
    "plt.sca(ax[1])\n",
    "plt.plot([np.min(bins_step), np.max(bins_step)],[1,1], 'k--')\n",
    "plt.plot([np.min(bins_step), np.max(bins_step)], [mean_ratio,mean_ratio], 'r', label=f'Mean: {mean_ratio:.2f} +- {std_ratio:.2f}')\n",
    "plt.fill_between([np.min(bins_step), np.max(bins_step)], [mean_ratio-std_ratio, mean_ratio-std_ratio], [mean_ratio+std_ratio, mean_ratio+std_ratio], color='r', alpha=0.2)\n",
    "plt.step(bins_step,hist_step)\n",
    "\n",
    "plt.legend()\n",
    "plt.xlabel(feature)\n",
    "plt.ylabel('New/Old')\n",
    "plt.show()"
   ]
  },
  {
   "cell_type": "markdown",
   "metadata": {},
   "source": [
    "## Looking into the detsys files"
   ]
  },
  {
   "cell_type": "code",
   "execution_count": 63,
   "metadata": {},
   "outputs": [],
   "source": [
    "mass = 100\n",
    "fhc_rhc_str = 'rhc'\n",
    "nshr = '1shr'\n",
    "KDIF_KDAR_str_lower = 'kdif'\n",
    "\n",
    "# Path to aditya's detvar pkls\n",
    "detsys_path = f'/exp/uboone/data/users/jbateman/workdir/HPS_uboone_analysis/Final_detector_systematics_BACKGROUND/{mass}_MeV/'\n",
    "detsys_file = f'bkg_{fhc_rhc_str}_{mass}_MeV_{nshr}_{KDIF_KDAR_str_lower}.pkl'\n",
    "df_detsys = pd.read_pickle(detsys_path+detsys_file)"
   ]
  },
  {
   "cell_type": "code",
   "execution_count": 75,
   "metadata": {},
   "outputs": [],
   "source": [
    "# Detvar ntuples used by aditya\n",
    "detvar_ntuple_path = '/exp/uboone/data/users/kmistry/work/MCC9/searchingfornues/ntuple_files_detvar_newtune/run3/'\n",
    "filename_root = 'neutrinoselection_filt_run3_overlay_detvar_'\n",
    "\n",
    "name_extention = 'LYAttenuation.root'\n",
    "\n",
    "ly_atten_root = uproot.open(detvar_ntuple_path+filename_root+name_extention)['nuselection;1']\n",
    "# # Extentions to the file name\n",
    "# LYAttenuation.root\n",
    "# LYRayleigh_v2.root\n",
    "# LYDown_v2.root\n",
    "# SCE.root\n",
    "# Recomb2.root\n",
    "# WireModX.root\n",
    "# WireModYZ.root\n",
    "# WireModThetaXZ.root\n",
    "# WireModThetaYZ_withSigmaSplines.root\n",
    "# WireModdEdX.root"
   ]
  },
  {
   "cell_type": "code",
   "execution_count": null,
   "metadata": {},
   "outputs": [],
   "source": []
  }
 ],
 "metadata": {
  "kernelspec": {
   "display_name": "HPS_ana",
   "language": "python",
   "name": "python3"
  },
  "language_info": {
   "codemirror_mode": {
    "name": "ipython",
    "version": 3
   },
   "file_extension": ".py",
   "mimetype": "text/x-python",
   "name": "python",
   "nbconvert_exporter": "python",
   "pygments_lexer": "ipython3",
   "version": "3.1.undefined"
  }
 },
 "nbformat": 4,
 "nbformat_minor": 2
}
