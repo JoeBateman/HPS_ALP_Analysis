{
 "cells": [
  {
   "cell_type": "code",
   "execution_count": 3,
   "metadata": {},
   "outputs": [],
   "source": [
    "import numpy as np"
   ]
  },
  {
   "cell_type": "code",
   "execution_count": 4,
   "metadata": {},
   "outputs": [],
   "source": [
    "def func(arr):\n",
    "    return 1\n",
    "\n",
    "def func_bar(arr):\n",
    "    return 0"
   ]
  },
  {
   "cell_type": "code",
   "execution_count": 5,
   "metadata": {},
   "outputs": [],
   "source": [
    "arr = np.asarray([True, False, False])\n",
    "\n",
    "\n",
    "x = np.where(arr, func(arr), func_bar(arr))"
   ]
  },
  {
   "cell_type": "code",
   "execution_count": 6,
   "metadata": {},
   "outputs": [
    {
     "data": {
      "text/plain": [
       "array([1, 0, 0])"
      ]
     },
     "execution_count": 6,
     "metadata": {},
     "output_type": "execute_result"
    }
   ],
   "source": [
    "x"
   ]
  },
  {
   "cell_type": "code",
   "execution_count": 9,
   "metadata": {},
   "outputs": [],
   "source": [
    "def deg2rad(deg):\n",
    "    return deg * np.pi / 180\n",
    "\n",
    "theta_12 = 13.04 # degrees https://en.wikipedia.org/wiki/Cabibbo%E2%80%93Kobayashi%E2%80%93Maskawa_matrix#%22Standard%22_parameters\n",
    "theta_13 = 0.201 # degrees\n",
    "theta_23 = 2.38 # degrees\n",
    "delta_13 = 68.8 # degrees\n",
    "\n",
    "theta_12 = deg2rad(theta_12)\n",
    "theta_13 = deg2rad(theta_13)\n",
    "theta_23 = deg2rad(theta_23)    \n",
    "delta_13 = deg2rad(delta_13)\n",
    "\n",
    "exp = np.exp(-1j * delta_13)\n",
    "\n",
    "s12 = np.sin(theta_12)\n",
    "s13 = np.sin(theta_13)\n",
    "s23 = np.sin(theta_23)\n",
    "\n",
    "c12 = np.cos(theta_12)\n",
    "c13 = np.cos(theta_13)\n",
    "c23 = np.cos(theta_23)"
   ]
  },
  {
   "cell_type": "code",
   "execution_count": 18,
   "metadata": {},
   "outputs": [],
   "source": [
    "V_td = s12*s23 - c12*c23*s13*exp\n",
    "V_ts = -s23*c12 - s12*c23*s13*exp"
   ]
  },
  {
   "cell_type": "code",
   "execution_count": 23,
   "metadata": {},
   "outputs": [
    {
     "name": "stdout",
     "output_type": "stream",
     "text": [
      "(-0.00032908600898394247+0.00013570440310920143j)\n",
      "0.00035596809735172067\n",
      "0.0003559680973517207\n"
     ]
    }
   ],
   "source": [
    "product = np.conjugate(V_td)*V_ts\n",
    "print(product)\n",
    "print(np.abs(product))\n",
    "\n",
    "print(np.sqrt(np.real(product)**2 + np.imag(product)**2))   "
   ]
  },
  {
   "cell_type": "code",
   "execution_count": 25,
   "metadata": {},
   "outputs": [
    {
     "name": "stdout",
     "output_type": "stream",
     "text": [
      "(-0.00032908600898394247-0.00013570440310920143j)\n",
      "0.00035596809735172067\n",
      "0.0003559680973517207\n"
     ]
    }
   ],
   "source": [
    "product = np.conjugate(V_ts)*V_td\n",
    "print(product)\n",
    "print(np.abs(product))\n",
    "\n",
    "print(np.sqrt(np.real(product)**2 + np.imag(product)**2))   "
   ]
  },
  {
   "cell_type": "code",
   "execution_count": null,
   "metadata": {},
   "outputs": [],
   "source": []
  }
 ],
 "metadata": {
  "kernelspec": {
   "display_name": "HPS",
   "language": "python",
   "name": "python3"
  },
  "language_info": {
   "codemirror_mode": {
    "name": "ipython",
    "version": 3
   },
   "file_extension": ".py",
   "mimetype": "text/x-python",
   "name": "python",
   "nbconvert_exporter": "python",
   "pygments_lexer": "ipython3",
   "version": "3.11.7"
  }
 },
 "nbformat": 4,
 "nbformat_minor": 2
}
